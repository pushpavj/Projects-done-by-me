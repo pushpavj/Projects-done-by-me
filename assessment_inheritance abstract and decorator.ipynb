{
 "cells": [
  {
   "cell_type": "markdown",
   "metadata": {},
   "source": [
    "2. Demonstrate use of abstract class, multiple inheritance and decorator in\n",
    "python using examples."
   ]
  },
  {
   "cell_type": "markdown",
   "metadata": {},
   "source": [
    "# Abstract Class\n",
    "* Abstractions is nothting but providing the skeleton structure of the program with creating mulitple functions with pass statment.\n",
    "* That is creating the logical architecuture of the project.\n",
    "* The method or function inside a class which has a declaration but not a defination or only having  a pass statement is called as Abstract method. \n",
    "* The class which has abstract method is called as Abstract class.\n",
    "* Python directly does not support Abstract class. i.e. once the abstract class is created it should not allow to create object out of it, but simply creating the abstract method inside the class in python does not make it abstract class yet i.e it still allow us to create class object over here. \n",
    "* So in python we need to explicitly make a class as abstract class by importing ABC, abstractmethod from abc library and declaring our class with itance of ABC class and decorating the method inside our class with @abstractmethod\n",
    "\n",
    "* once you created the abstract class you will not be able to inherit that class into another class without having a  \n",
    "* method which overrides abstract class mehod in it. i.e. The actual abstract class is enforcing its child class to have\n",
    "* the abstract method init and without the abstract method child class can not be completed."
   ]
  },
  {
   "cell_type": "code",
   "execution_count": 35,
   "metadata": {},
   "outputs": [],
   "source": [
    "# abstractions is nothting but providing the skeleton structure of the program with creating mulitple functions\n",
    "# with pass statment. That is creating the logical architecuture of the project. The method or function inside a \n",
    "# class which has a declaration but not a defination or only having  a pass statement is called as Abstract method.\n",
    "\n",
    "class module1:\n",
    "    def method1(self):\n",
    "        pass"
   ]
  },
  {
   "cell_type": "code",
   "execution_count": 36,
   "metadata": {},
   "outputs": [],
   "source": [
    "# Python directly does not support Abstract class. i.e. once the abstract class is created it should not allow to\n",
    "# create object out of it, but simply creating the abstract method inside the class in python does not make it abstract \n",
    "# class yet i.e it still allow us to create class object over here. \n",
    "\n",
    "test=module1()\n"
   ]
  },
  {
   "cell_type": "code",
   "execution_count": 37,
   "metadata": {},
   "outputs": [],
   "source": [
    "test.method1()"
   ]
  },
  {
   "cell_type": "code",
   "execution_count": 21,
   "metadata": {},
   "outputs": [],
   "source": [
    "from abc import ABC,abstractmethod"
   ]
  },
  {
   "cell_type": "code",
   "execution_count": 39,
   "metadata": {},
   "outputs": [],
   "source": [
    "# So in python we need to explicitly make a class as abstract class by importing ABC, abstractmethod from abc library \n",
    "# and declaring our class with itance of ABC class and decorating the method inside our class with @abstractmethod\n",
    "class module4(ABC):\n",
    "    @abstractmethod\n",
    "    def method4(self):\n",
    "        pass"
   ]
  },
  {
   "cell_type": "code",
   "execution_count": 42,
   "metadata": {},
   "outputs": [
    {
     "ename": "TypeError",
     "evalue": "Can't instantiate abstract class module4 with abstract methods method4",
     "output_type": "error",
     "traceback": [
      "\u001b[1;31m---------------------------------------------------------------------------\u001b[0m",
      "\u001b[1;31mTypeError\u001b[0m                                 Traceback (most recent call last)",
      "\u001b[1;32m<ipython-input-42-9e8c2ad2bcc6>\u001b[0m in \u001b[0;36m<module>\u001b[1;34m\u001b[0m\n\u001b[1;32m----> 1\u001b[1;33m \u001b[0mtest4\u001b[0m\u001b[1;33m=\u001b[0m\u001b[0mmodule4\u001b[0m\u001b[1;33m(\u001b[0m\u001b[1;33m)\u001b[0m\u001b[1;33m\u001b[0m\u001b[1;33m\u001b[0m\u001b[0m\n\u001b[0m",
      "\u001b[1;31mTypeError\u001b[0m: Can't instantiate abstract class module4 with abstract methods method4"
     ]
    }
   ],
   "source": [
    "#Now the abstract class is created and it isn't possible to create object out of it,\n",
    "test4=module4() "
   ]
  },
  {
   "cell_type": "code",
   "execution_count": 43,
   "metadata": {},
   "outputs": [
    {
     "ename": "NameError",
     "evalue": "name 'test4' is not defined",
     "output_type": "error",
     "traceback": [
      "\u001b[1;31m---------------------------------------------------------------------------\u001b[0m",
      "\u001b[1;31mNameError\u001b[0m                                 Traceback (most recent call last)",
      "\u001b[1;32m<ipython-input-43-4b91835579f7>\u001b[0m in \u001b[0;36m<module>\u001b[1;34m\u001b[0m\n\u001b[1;32m----> 1\u001b[1;33m \u001b[0mtest4\u001b[0m\u001b[1;33m.\u001b[0m\u001b[0mmethod4\u001b[0m\u001b[1;33m(\u001b[0m\u001b[1;33m)\u001b[0m\u001b[1;33m\u001b[0m\u001b[1;33m\u001b[0m\u001b[0m\n\u001b[0m",
      "\u001b[1;31mNameError\u001b[0m: name 'test4' is not defined"
     ]
    }
   ],
   "source": [
    "test4.method4()"
   ]
  },
  {
   "cell_type": "code",
   "execution_count": 44,
   "metadata": {},
   "outputs": [],
   "source": [
    "#once you created the abstract class you will not be able to inherit that class into another class without having a  \n",
    "# method which overrides abstract class mehod in it\n",
    "class module5(module4):\n",
    "    pass"
   ]
  },
  {
   "cell_type": "code",
   "execution_count": 45,
   "metadata": {},
   "outputs": [
    {
     "ename": "TypeError",
     "evalue": "Can't instantiate abstract class module5 with abstract methods method4",
     "output_type": "error",
     "traceback": [
      "\u001b[1;31m---------------------------------------------------------------------------\u001b[0m",
      "\u001b[1;31mTypeError\u001b[0m                                 Traceback (most recent call last)",
      "\u001b[1;32m<ipython-input-45-02b4edc3e1eb>\u001b[0m in \u001b[0;36m<module>\u001b[1;34m\u001b[0m\n\u001b[1;32m----> 1\u001b[1;33m \u001b[0mtest5\u001b[0m\u001b[1;33m=\u001b[0m\u001b[0mmodule5\u001b[0m\u001b[1;33m(\u001b[0m\u001b[1;33m)\u001b[0m\u001b[1;33m\u001b[0m\u001b[1;33m\u001b[0m\u001b[0m\n\u001b[0m",
      "\u001b[1;31mTypeError\u001b[0m: Can't instantiate abstract class module5 with abstract methods method4"
     ]
    }
   ],
   "source": [
    "test5=module5()"
   ]
  },
  {
   "cell_type": "code",
   "execution_count": 46,
   "metadata": {},
   "outputs": [],
   "source": [
    "class module6(module4):\n",
    "    def method4(self):\n",
    "        print('It is working fine')"
   ]
  },
  {
   "cell_type": "code",
   "execution_count": 47,
   "metadata": {},
   "outputs": [],
   "source": [
    "test6=module6()"
   ]
  },
  {
   "cell_type": "code",
   "execution_count": 48,
   "metadata": {},
   "outputs": [
    {
     "name": "stdout",
     "output_type": "stream",
     "text": [
      "It is working fine\n"
     ]
    }
   ],
   "source": [
    "test6.method4()"
   ]
  },
  {
   "cell_type": "code",
   "execution_count": 55,
   "metadata": {},
   "outputs": [],
   "source": [
    "#Object of the class which has overriden method of abstract class can be used as variable inside a method of another\n",
    "#class and we can access the overriden abstract method from it.\n",
    "class module7:\n",
    "    def method7(self,test6):\n",
    "        test6.method4()\n",
    "        "
   ]
  },
  {
   "cell_type": "code",
   "execution_count": 56,
   "metadata": {},
   "outputs": [],
   "source": [
    "test7=module7()"
   ]
  },
  {
   "cell_type": "code",
   "execution_count": 68,
   "metadata": {},
   "outputs": [
    {
     "name": "stdout",
     "output_type": "stream",
     "text": [
      "It is working fine\n"
     ]
    }
   ],
   "source": [
    "\n",
    "test7.method7(test6)"
   ]
  },
  {
   "cell_type": "code",
   "execution_count": 58,
   "metadata": {},
   "outputs": [],
   "source": [
    "#once you created the abstract class you will not be able to inherit that class into another class without having a  \n",
    "# method which overrides abstract class mehod in it\n",
    "class module8(module4):\n",
    "    def method8(self):\n",
    "        print('Method8 is working')"
   ]
  },
  {
   "cell_type": "code",
   "execution_count": 59,
   "metadata": {},
   "outputs": [
    {
     "ename": "TypeError",
     "evalue": "Can't instantiate abstract class module8 with abstract methods method4",
     "output_type": "error",
     "traceback": [
      "\u001b[1;31m---------------------------------------------------------------------------\u001b[0m",
      "\u001b[1;31mTypeError\u001b[0m                                 Traceback (most recent call last)",
      "\u001b[1;32m<ipython-input-59-a4e6dbdbcf15>\u001b[0m in \u001b[0;36m<module>\u001b[1;34m\u001b[0m\n\u001b[1;32m----> 1\u001b[1;33m \u001b[0mtest8\u001b[0m\u001b[1;33m=\u001b[0m\u001b[0mmodule8\u001b[0m\u001b[1;33m(\u001b[0m\u001b[1;33m)\u001b[0m\u001b[1;33m\u001b[0m\u001b[1;33m\u001b[0m\u001b[0m\n\u001b[0m",
      "\u001b[1;31mTypeError\u001b[0m: Can't instantiate abstract class module8 with abstract methods method4"
     ]
    }
   ],
   "source": [
    "test8=module8()"
   ]
  },
  {
   "cell_type": "code",
   "execution_count": 63,
   "metadata": {},
   "outputs": [],
   "source": [
    "class module9(module4):\n",
    "    def method4(self):\n",
    "        print(\"This is Module 9 method4\")\n",
    "    def method9(self):\n",
    "        print(\"This is module 9 method9\")"
   ]
  },
  {
   "cell_type": "code",
   "execution_count": 64,
   "metadata": {},
   "outputs": [],
   "source": [
    "test9=module9()"
   ]
  },
  {
   "cell_type": "code",
   "execution_count": 65,
   "metadata": {},
   "outputs": [
    {
     "name": "stdout",
     "output_type": "stream",
     "text": [
      "This is Module 9 method4\n"
     ]
    }
   ],
   "source": [
    "test9.method4()\n"
   ]
  },
  {
   "cell_type": "code",
   "execution_count": 66,
   "metadata": {},
   "outputs": [
    {
     "name": "stdout",
     "output_type": "stream",
     "text": [
      "This is module 9 method9\n"
     ]
    }
   ],
   "source": [
    "test9.method9()"
   ]
  },
  {
   "cell_type": "markdown",
   "metadata": {},
   "source": [
    "# Abstract class example"
   ]
  },
  {
   "cell_type": "code",
   "execution_count": 69,
   "metadata": {},
   "outputs": [],
   "source": [
    "from abc import ABC, abstractmethod"
   ]
  },
  {
   "cell_type": "code",
   "execution_count": 77,
   "metadata": {},
   "outputs": [],
   "source": [
    "class animal(ABC):              #Here animal class is defied as abstract class\n",
    "    @abstractmethod\n",
    "    def animal_kind(self):\n",
    "        pass\n",
    "        "
   ]
  },
  {
   "cell_type": "code",
   "execution_count": 78,
   "metadata": {},
   "outputs": [],
   "source": [
    "class cat(animal):              #Here child class cat is inheriting the animal abstract class.\n",
    "    def animal_kind(self):       #So here abstract class ensuring that the child class must have abstract method or \n",
    "        print(\"Cat is a domastic animal\")      # structure init.\n",
    "                                 #i.e. logically all childs of animal class must define the kind of animal in it.\n",
    "    "
   ]
  },
  {
   "cell_type": "code",
   "execution_count": 79,
   "metadata": {},
   "outputs": [],
   "source": [
    "test=cat()"
   ]
  },
  {
   "cell_type": "code",
   "execution_count": 81,
   "metadata": {},
   "outputs": [],
   "source": [
    "class tiger(animal):\n",
    "    def animal_kind(self):\n",
    "        print(\"Tiger is a wild animal\")"
   ]
  },
  {
   "cell_type": "code",
   "execution_count": 82,
   "metadata": {},
   "outputs": [],
   "source": [
    "test_tiger=tiger()"
   ]
  },
  {
   "cell_type": "code",
   "execution_count": 83,
   "metadata": {},
   "outputs": [
    {
     "name": "stdout",
     "output_type": "stream",
     "text": [
      "Tiger is a wild animal\n"
     ]
    }
   ],
   "source": [
    "test_tiger.animal_kind()"
   ]
  },
  {
   "cell_type": "code",
   "execution_count": 84,
   "metadata": {},
   "outputs": [],
   "source": [
    "class shark(animal):\n",
    "    def animal_kind(self):\n",
    "        print(\"Shark is a aquatic animal\")"
   ]
  },
  {
   "cell_type": "code",
   "execution_count": 85,
   "metadata": {},
   "outputs": [],
   "source": [
    "test_shark=shark()"
   ]
  },
  {
   "cell_type": "code",
   "execution_count": 86,
   "metadata": {},
   "outputs": [
    {
     "name": "stdout",
     "output_type": "stream",
     "text": [
      "Shark is a aquatic animal\n"
     ]
    }
   ],
   "source": [
    "test_shark.animal_kind()"
   ]
  },
  {
   "cell_type": "markdown",
   "metadata": {},
   "source": [
    "## Inheritance and Multiple Inheritance\n",
    "### Inheritance\n",
    "* Inheritance is used to redunduncy of the code\n",
    "* Inheritance allows all the methods and attributes of parent class can be inherited and used by its child class\n",
    "* Inheritance establishes the relationship between two classes as parent and child class\n",
    "* Using inheritance instead of re-defining the same methods again in one class, we can inherit it from another classs\n",
    "  where the methods are already defined in it. This will do the redundancy of the code\n",
    "* Once the inheritance is established the parent class is called as super class.\n",
    "### Multiple inheritance\n",
    "\n",
    "* In multiple inheritance a child class can have more than one parent class. \n",
    "* In multiple inheritance the first parent class will have priority over second parent class incase of both classes are\n",
    "  having same attribute and or method names.\n",
    "* In mulitple inheritance __init__ method will be inheritated by first super class or parent class.\n",
    "* In order to inherit the __init__ from second parent class we need to explicitly specify the second parent class .    followed by __init__ (self,....)\n",
    "\n",
    "### Multi Level inheritance\n",
    "* In multi Level inheritance child class of one parent class gets inherited into another chlid class. With this the lowest   child class will have access to its parent class then its grandparent class attributes and methods as well. "
   ]
  },
  {
   "cell_type": "code",
   "execution_count": 8,
   "metadata": {},
   "outputs": [
    {
     "name": "stdout",
     "output_type": "stream",
     "text": [
      "4 5 2 3\n",
      "None\n",
      "This is a print from class one\n",
      "None\n"
     ]
    }
   ],
   "source": [
    "#Inheritance\n",
    "class one:\n",
    "    def __init__(self,a,b):\n",
    "        self.a=a\n",
    "        self.b=b\n",
    "    def method1(self):\n",
    "        print (\"This is a print from class one\")\n",
    "class child1(one):\n",
    "    def __init__(self,p,q,*args):\n",
    "        self.p=p\n",
    "        self.q=q\n",
    "        super(child1,self).__init__(*args)\n",
    "    def chmethod1(self):\n",
    "        print(self.a,self.b,self.p,self.q)\n",
    "test=child1(2,3,4,5)\n",
    "print(test.chmethod1())   \n",
    "print(test.method1())"
   ]
  },
  {
   "cell_type": "code",
   "execution_count": 26,
   "metadata": {},
   "outputs": [],
   "source": [
    "#Multiple inheritance\n",
    "\n",
    "class one:\n",
    "    def __init__(self,a,b):\n",
    "        self.a=a\n",
    "        self.b=b\n",
    "    def method1(self):\n",
    "        print (\"This is a print from class one\")\n",
    "\n",
    "class two:\n",
    "    def __init__(self,x,y):\n",
    "        self.x=x\n",
    "        self.y=y\n",
    "    def method2(self):\n",
    "        print(\"This is a print from class two\")\n",
    "        \n",
    "class child1(one,two):\n",
    "    def __init__(self,p,q,x,y,*args):\n",
    "        self.p=p\n",
    "        self.q=q\n",
    "        super(child1,self).__init__(*args)  #considers super as class one.\n",
    "        two.__init__(self,x,y)              #for class two we need to explicitly mention the class name\n",
    "    def chmethod1(self):\n",
    "        print(self.a,self.b,self.p,self.q,self.x,self.y)\n",
    "         "
   ]
  },
  {
   "cell_type": "code",
   "execution_count": 27,
   "metadata": {},
   "outputs": [],
   "source": [
    "test=child1(2,3,4,5,7,8)"
   ]
  },
  {
   "cell_type": "code",
   "execution_count": 28,
   "metadata": {},
   "outputs": [
    {
     "name": "stdout",
     "output_type": "stream",
     "text": [
      "7 8 2 3 4 5\n"
     ]
    }
   ],
   "source": [
    "test.chmethod1()"
   ]
  },
  {
   "cell_type": "code",
   "execution_count": 29,
   "metadata": {},
   "outputs": [
    {
     "name": "stdout",
     "output_type": "stream",
     "text": [
      "This is a print from class one\n"
     ]
    }
   ],
   "source": [
    "test.method1()"
   ]
  },
  {
   "cell_type": "code",
   "execution_count": 30,
   "metadata": {},
   "outputs": [
    {
     "name": "stdout",
     "output_type": "stream",
     "text": [
      "This is a print from class two\n"
     ]
    }
   ],
   "source": [
    "test.method2()"
   ]
  },
  {
   "cell_type": "code",
   "execution_count": 68,
   "metadata": {},
   "outputs": [],
   "source": [
    "#Multiple inheritance with parent classes having same method name in it\n",
    "class one:\n",
    "    def __init__(self,a,b):\n",
    "        self.a=a\n",
    "        self.b=b\n",
    "    def method1(self):\n",
    "        print (\"This is a mehtod1 print from class one\")\n",
    "\n",
    "class two:\n",
    "    def __init__(self,x,y):\n",
    "        self.x=x\n",
    "        self.y=y\n",
    "    def method2(self):\n",
    "        print(\"This is a print from class two\")\n",
    "    def method1(self):\n",
    "        print(\"Method1 from class two\")\n",
    "        \n",
    "class child1(one,two):\n",
    "    def __init__(self,p,q,x,y,*args):\n",
    "        self.p=p\n",
    "        self.q=q\n",
    "        super(child1,self).__init__(*args)  #considers super as class one.\n",
    "        two.__init__(self,x,y)              #for class two we need to explicitly mention the class name\n",
    "    def chmethod1(self):\n",
    "        print(self.a,self.b,self.p,self.q,self.x,self.y)\n",
    "        print(self.method1())    #consideres the method1() from class one \n",
    "        print(two.method1(self)) # we need to explicitly need to mention the class two name\n",
    "         "
   ]
  },
  {
   "cell_type": "code",
   "execution_count": 69,
   "metadata": {},
   "outputs": [],
   "source": [
    "test=child1(2,3,4,5,7,8)"
   ]
  },
  {
   "cell_type": "code",
   "execution_count": 70,
   "metadata": {},
   "outputs": [
    {
     "name": "stdout",
     "output_type": "stream",
     "text": [
      "This is a mehtod1 print from class one\n"
     ]
    }
   ],
   "source": [
    "test.method1()  # method1 is being taken from class one only"
   ]
  },
  {
   "cell_type": "code",
   "execution_count": 71,
   "metadata": {},
   "outputs": [
    {
     "name": "stdout",
     "output_type": "stream",
     "text": [
      "7 8 2 3 4 5\n",
      "This is a mehtod1 print from class one\n",
      "None\n",
      "Method1 from class two\n",
      "None\n"
     ]
    }
   ],
   "source": [
    "test.chmethod1()"
   ]
  },
  {
   "cell_type": "code",
   "execution_count": 112,
   "metadata": {},
   "outputs": [],
   "source": [
    "#Multi Level inheritance\n",
    "\n",
    "class one:\n",
    "    def __init__(self,a,b):\n",
    "        self.a=a\n",
    "        self.b=b\n",
    "    def method1(self):\n",
    "        print (\"This is a print from class one\")\n",
    "        print(self.a, self.b)\n",
    "\n",
    "class two(one):\n",
    "    def __init__(self,x,y,a,b):\n",
    "        super(two,self).__init__(a,b)\n",
    "        self.x=x\n",
    "        self.y=y\n",
    "    def method2(self):\n",
    "        print(\"This is a print from class two\")\n",
    "        print(self.x, self.y)\n",
    "        \n",
    "class child1(two):\n",
    "    def __init__(self,p,q,x,y,a,b):\n",
    "        self.p=p\n",
    "        self.q=q\n",
    "        super(child1,self).__init__(x,y,a,b)  \n",
    "    def chmethod1(self):\n",
    "        print(self.a)\n",
    "        print(self.b)\n",
    "        print(self.x)\n",
    "        print(self.y)\n",
    "        print(self.p)\n",
    "        print(self.q)"
   ]
  },
  {
   "cell_type": "code",
   "execution_count": 113,
   "metadata": {},
   "outputs": [],
   "source": [
    "test=child1(2,3,4,5,6,7)"
   ]
  },
  {
   "cell_type": "code",
   "execution_count": 114,
   "metadata": {},
   "outputs": [
    {
     "name": "stdout",
     "output_type": "stream",
     "text": [
      "6\n",
      "7\n",
      "4\n",
      "5\n",
      "2\n",
      "3\n"
     ]
    }
   ],
   "source": [
    "test.chmethod1()"
   ]
  },
  {
   "cell_type": "code",
   "execution_count": 115,
   "metadata": {},
   "outputs": [
    {
     "name": "stdout",
     "output_type": "stream",
     "text": [
      "This is a print from class one\n",
      "6 7\n"
     ]
    }
   ],
   "source": [
    "test.method1()"
   ]
  },
  {
   "cell_type": "code",
   "execution_count": 116,
   "metadata": {},
   "outputs": [
    {
     "name": "stdout",
     "output_type": "stream",
     "text": [
      "This is a print from class two\n",
      "4 5\n"
     ]
    }
   ],
   "source": [
    "test.method2()"
   ]
  },
  {
   "cell_type": "markdown",
   "metadata": {},
   "source": [
    "## Decorators\n",
    "* Using decorators we can add the extra features in existing functions\n",
    "* Decorator is a function which uses existing function as its argument, and it will have an inner function which modifies\n",
    "  the behaviour of the arguments of existing functions then it calls the existing function with modified variables. So this   way it has added an extra feature to an exisiting function "
   ]
  },
  {
   "cell_type": "code",
   "execution_count": 128,
   "metadata": {},
   "outputs": [
    {
     "name": "stdout",
     "output_type": "stream",
     "text": [
      "20\n"
     ]
    }
   ],
   "source": [
    "def existing(a,b):\n",
    "    print(a+b)\n",
    "    \n",
    "def dec_existing(func):   #accepts the func as variable here you will be passing exsiting as function\n",
    "    def modify(a,b):     #modifies the value of a an b\n",
    "        a = a**2\n",
    "        b = b**2\n",
    "        return func(a,b)  #then calls the existing function with modified a and b \n",
    "    return modify         #returns the output of modify function\n",
    "\n",
    "existing=dec_existing(existing) #Re assigning the existing with decorator function with passing old existing function as variable\n",
    "existing(2,4)    #now this calls re assigned existing function and gets the result of squared sum of a and b. \n",
    "              #Now the existing function works with modified decorator code now onwards within this module\n",
    "    \n",
    "#If you would like to use decorated existing function as and when required only and you still want to retain the old existing\n",
    "# function as it is for some other purposes then just replace the below code in above\n",
    "# existing=dec_existng(existing)\n",
    "# existing(2,4) \n",
    "#                                      with\n",
    "# decexisting=dec_existing(existing)\n",
    "# decexisting(2,4)\n",
    "# With this you can use decexisting(a,b) for decorated existing function as and when required and you can still use\n",
    "# the old existing(a,b) as it is with out any modification of a,b variables behaviour."
   ]
  },
  {
   "cell_type": "code",
   "execution_count": 129,
   "metadata": {},
   "outputs": [
    {
     "name": "stdout",
     "output_type": "stream",
     "text": [
      "25\n"
     ]
    }
   ],
   "source": [
    "existing(3,4)"
   ]
  }
 ],
 "metadata": {
  "kernelspec": {
   "display_name": "Python 3",
   "language": "python",
   "name": "python3"
  },
  "language_info": {
   "codemirror_mode": {
    "name": "ipython",
    "version": 3
   },
   "file_extension": ".py",
   "mimetype": "text/x-python",
   "name": "python",
   "nbconvert_exporter": "python",
   "pygments_lexer": "ipython3",
   "version": "3.7.6"
  }
 },
 "nbformat": 4,
 "nbformat_minor": 4
}

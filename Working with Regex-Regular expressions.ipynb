{
 "cells": [
  {
   "cell_type": "code",
   "execution_count": null,
   "metadata": {},
   "outputs": [],
   "source": [
    "\"\"\"\n",
    "***************************************************************************************************************************\n",
    "Working with Regular expressions\n",
    "***************************************************************************************************************************\n",
    "Work Description:\n",
    "\n",
    "Regular expression are used to pars the data or string autmatically as per our need.You need to import re package for \n",
    "using regular expressions.\n",
    "\n",
    "Regular expression has following functions\n",
    "Findall-It matches the specific string and gives out those string as return\n",
    "          Return a list of all non-overlapping matches of pattern in string.\n",
    "search - Search returns the matche object\n",
    "          Scan through string looking for a match, and return a corresponding match \n",
    "          object instance. I.e. gives the span(start and end postion) of the first\n",
    "          accurrence of the given match in the string.\n",
    "split - Splits the data based on the given string and returns the output as 2 string\n",
    "       first string contains all the data before the given string and second string\n",
    "       contains all the data after the given string.\n",
    "sub -Return the string obtained by replacing the leftmost non-overlapping occurrences\n",
    "     of pattern in string by the replacement repl.\n",
    "finditer\n",
    "\n",
    "Form and excute various patterns using following\n",
    "\n",
    "Meta characters\n",
    "[] A set of characters\n",
    "\\ Signals a special sequence(can also be used to escape special characters)\n",
    ". Any character(except newline character)\n",
    "^ Starts with\n",
    "$ Ends with\n",
    "* Zero or more occurrences\n",
    "+ One more occurrences\n",
    "{} Exactly the specified number of occurrences\n",
    "| Either or\n",
    "() Capture and group\n",
    "?\n",
    "\n",
    "Quantifier:\n",
    "    *: 0 or more\n",
    "    +: 1 or more\n",
    "    ? ; 0 or 1, - optional character\n",
    "    {4}: exact number\n",
    "    {4,6}: range numbers(min, max)\n",
    "\n",
    "Spceial Sequences\n",
    "\\A Returns a match if the specified characters are at athe beginning of the string\n",
    "\\b Returns a match where the specified characters are at the beginning or at the end of a word\n",
    "r\"ain\\b\"\n",
    "\\B Retruns a match where the specified chracters are present, but NOT at the beginning (\n",
    "    or at the end) of a word\n",
    "\\d Returns a match where the string contains digits(numbers from 0-9)\n",
    "\\D Returns a match where the string DOES NOT contains digits\n",
    "\\s Returns a match where the string contains a white space character(\" \" \\t \\n)\n",
    "\\S Returns a match where the string DOES NOT contains white space character\n",
    "\\w Returns a match where the string contains any word characters\n",
    "    (Characters from a to Z, digits from 0-9, and the underscore_character)\n",
    "\\W Returns a match where the string DOES NOT contain any word characters\n",
    "***************************************************************************************************************************\n",
    "Date           Author           Description\n",
    "5-Jan-2022     Pushpa V J       Working with Regular expressions\n",
    "\"\"\"\n"
   ]
  },
  {
   "cell_type": "code",
   "execution_count": 1,
   "metadata": {},
   "outputs": [],
   "source": [
    "#raw string is a string which starts with r in python. The raw string interprt any special\n",
    "#characters as it is for example:\\t \\n \\\\ as it is."
   ]
  },
  {
   "cell_type": "code",
   "execution_count": 1,
   "metadata": {},
   "outputs": [
    {
     "name": "stdout",
     "output_type": "stream",
     "text": [
      "test the new line \n",
      " with having special \n",
      "\n"
     ]
    }
   ],
   "source": [
    "print(\"test the new line \\n with having special \\n\")"
   ]
  },
  {
   "cell_type": "code",
   "execution_count": 2,
   "metadata": {},
   "outputs": [
    {
     "name": "stdout",
     "output_type": "stream",
     "text": [
      "test the new line \\n with having special \\n\n"
     ]
    }
   ],
   "source": [
    "print(r\"test the new line \\n with having special \\n\")"
   ]
  },
  {
   "cell_type": "code",
   "execution_count": 4,
   "metadata": {},
   "outputs": [],
   "source": [
    "import re"
   ]
  },
  {
   "cell_type": "code",
   "execution_count": 24,
   "metadata": {},
   "outputs": [],
   "source": [
    "mystring='''The Alaknanda is a Himalayan river in the Indian state of Uttarakhand \n",
    "and one of the two headstreams of the Ganges, the major river of Northern India and\n",
    "the holy river of Hinduism. In hydrology, the Alaknanda is considered the source stream \n",
    "of the Ganges on account of its greater length and discharge;[1] however, in Hindu \n",
    "tradition and culture, the other headstream, the Bhagirathi, is considered the source stream.'''"
   ]
  },
  {
   "cell_type": "code",
   "execution_count": 25,
   "metadata": {},
   "outputs": [],
   "source": [
    "pattern=re.compile(r'river')"
   ]
  },
  {
   "cell_type": "code",
   "execution_count": 26,
   "metadata": {},
   "outputs": [],
   "source": [
    "matches=pattern.finditer(mystring)"
   ]
  },
  {
   "cell_type": "code",
   "execution_count": 27,
   "metadata": {},
   "outputs": [
    {
     "data": {
      "text/plain": [
       "<callable_iterator at 0x22d488417c8>"
      ]
     },
     "execution_count": 27,
     "metadata": {},
     "output_type": "execute_result"
    }
   ],
   "source": [
    "matches   # created a iterator which contains the details of the position of the given word \n",
    "          #inside the string as span variable"
   ]
  },
  {
   "cell_type": "code",
   "execution_count": 28,
   "metadata": {},
   "outputs": [
    {
     "data": {
      "text/plain": [
       "[<re.Match object; span=(29, 34), match='river'>,\n",
       " <re.Match object; span=(127, 132), match='river'>,\n",
       " <re.Match object; span=(164, 169), match='river'>]"
      ]
     },
     "execution_count": 28,
     "metadata": {},
     "output_type": "execute_result"
    }
   ],
   "source": [
    "list(matches)"
   ]
  },
  {
   "cell_type": "code",
   "execution_count": 32,
   "metadata": {},
   "outputs": [],
   "source": [
    "a=pattern.sub('LAKE',mystring,count=1) #Replaces the pattern string 'river' with \"LAKE\" for 1 time count"
   ]
  },
  {
   "cell_type": "code",
   "execution_count": 33,
   "metadata": {},
   "outputs": [
    {
     "data": {
      "text/plain": [
       "'The Alaknanda is a Himalayan LAKE in the Indian state of Uttarakhand \\nand one of the two headstreams of the Ganges, the major river of Northern India and\\nthe holy river of Hinduism. In hydrology, the Alaknanda is considered the source stream \\nof the Ganges on account of its greater length and discharge;[1] however, in Hindu \\ntradition and culture, the other headstream, the Bhagirathi, is considered the source stream.'"
      ]
     },
     "execution_count": 33,
     "metadata": {},
     "output_type": "execute_result"
    }
   ],
   "source": [
    "a"
   ]
  },
  {
   "cell_type": "code",
   "execution_count": 31,
   "metadata": {},
   "outputs": [
    {
     "data": {
      "text/plain": [
       "'The Alaknanda is a Himalayan river in the Indian state of Uttarakhand \\nand one of the two headstreams of the Ganges, the major river of Northern India and\\nthe holy river of Hinduism. In hydrology, the Alaknanda is considered the source stream \\nof the Ganges on account of its greater length and discharge;[1] however, in Hindu \\ntradition and culture, the other headstream, the Bhagirathi, is considered the source stream.'"
      ]
     },
     "execution_count": 31,
     "metadata": {},
     "output_type": "execute_result"
    }
   ],
   "source": [
    "mystring"
   ]
  },
  {
   "cell_type": "code",
   "execution_count": 35,
   "metadata": {},
   "outputs": [],
   "source": [
    "b=pattern.findall(mystring)"
   ]
  },
  {
   "cell_type": "code",
   "execution_count": 36,
   "metadata": {},
   "outputs": [
    {
     "data": {
      "text/plain": [
       "['river', 'river', 'river']"
      ]
     },
     "execution_count": 36,
     "metadata": {},
     "output_type": "execute_result"
    }
   ],
   "source": [
    "b"
   ]
  },
  {
   "cell_type": "code",
   "execution_count": 39,
   "metadata": {},
   "outputs": [],
   "source": [
    "c=pattern.search(mystring)"
   ]
  },
  {
   "cell_type": "code",
   "execution_count": 40,
   "metadata": {},
   "outputs": [
    {
     "data": {
      "text/plain": [
       "<re.Match object; span=(29, 34), match='river'>"
      ]
     },
     "execution_count": 40,
     "metadata": {},
     "output_type": "execute_result"
    }
   ],
   "source": [
    "c"
   ]
  },
  {
   "cell_type": "code",
   "execution_count": 41,
   "metadata": {},
   "outputs": [],
   "source": [
    "d=pattern.split(mystring)"
   ]
  },
  {
   "cell_type": "code",
   "execution_count": 42,
   "metadata": {},
   "outputs": [
    {
     "data": {
      "text/plain": [
       "['The Alaknanda is a Himalayan ',\n",
       " ' in the Indian state of Uttarakhand \\nand one of the two headstreams of the Ganges, the major ',\n",
       " ' of Northern India and\\nthe holy ',\n",
       " ' of Hinduism. In hydrology, the Alaknanda is considered the source stream \\nof the Ganges on account of its greater length and discharge;[1] however, in Hindu \\ntradition and culture, the other headstream, the Bhagirathi, is considered the source stream.']"
      ]
     },
     "execution_count": 42,
     "metadata": {},
     "output_type": "execute_result"
    }
   ],
   "source": [
    "d"
   ]
  },
  {
   "cell_type": "code",
   "execution_count": 44,
   "metadata": {},
   "outputs": [
    {
     "data": {
      "text/plain": [
       "'The Alaknanda is a Himalayan river in the Indian state of Uttarakhand \\nand one of the two headstreams of the Ganges, the major river of Northern India and\\nthe holy river of Hinduism. In hydrology, the Alaknanda is considered the source stream \\nof the Ganges on account of its greater length and discharge;[1] however, in Hindu \\ntradition and culture, the other headstream, the Bhagirathi, is considered the source stream.'"
      ]
     },
     "execution_count": 44,
     "metadata": {},
     "output_type": "execute_result"
    }
   ],
   "source": [
    "mystring"
   ]
  },
  {
   "cell_type": "code",
   "execution_count": 47,
   "metadata": {},
   "outputs": [],
   "source": [
    "e=pattern.fullmatch(mystring) #Matches against all of the string."
   ]
  },
  {
   "cell_type": "code",
   "execution_count": 48,
   "metadata": {},
   "outputs": [],
   "source": [
    "e"
   ]
  },
  {
   "cell_type": "code",
   "execution_count": 50,
   "metadata": {},
   "outputs": [],
   "source": [
    "f=pattern.subn('POND',mystring) # Return the tuple (new_string, number_of_subs_made) found by replacing the\n",
    "                  #leftmost non-overlapping occurrences of pattern with the replacement repl."
   ]
  },
  {
   "cell_type": "code",
   "execution_count": 51,
   "metadata": {},
   "outputs": [
    {
     "data": {
      "text/plain": [
       "('The Alaknanda is a Himalayan POND in the Indian state of Uttarakhand \\nand one of the two headstreams of the Ganges, the major POND of Northern India and\\nthe holy POND of Hinduism. In hydrology, the Alaknanda is considered the source stream \\nof the Ganges on account of its greater length and discharge;[1] however, in Hindu \\ntradition and culture, the other headstream, the Bhagirathi, is considered the source stream.',\n",
       " 3)"
      ]
     },
     "execution_count": 51,
     "metadata": {},
     "output_type": "execute_result"
    }
   ],
   "source": [
    "f"
   ]
  },
  {
   "cell_type": "code",
   "execution_count": 1,
   "metadata": {},
   "outputs": [],
   "source": [
    "import re"
   ]
  },
  {
   "cell_type": "code",
   "execution_count": 2,
   "metadata": {},
   "outputs": [],
   "source": [
    "test_string='123abc456789abc123ABC'"
   ]
  },
  {
   "cell_type": "code",
   "execution_count": 4,
   "metadata": {},
   "outputs": [],
   "source": [
    "pattern=re.compile(r\"abc\")"
   ]
  },
  {
   "cell_type": "code",
   "execution_count": 5,
   "metadata": {},
   "outputs": [],
   "source": [
    "matches=pattern.finditer(test_string) #returns the span of the matches anywhere in the string"
   ]
  },
  {
   "cell_type": "code",
   "execution_count": 6,
   "metadata": {},
   "outputs": [
    {
     "name": "stdout",
     "output_type": "stream",
     "text": [
      "<re.Match object; span=(3, 6), match='abc'>\n",
      "<re.Match object; span=(12, 15), match='abc'>\n"
     ]
    }
   ],
   "source": [
    "for match in matches:\n",
    "    print(match)"
   ]
  },
  {
   "cell_type": "code",
   "execution_count": 7,
   "metadata": {},
   "outputs": [],
   "source": [
    "matches=pattern.findall(test_string) # "
   ]
  },
  {
   "cell_type": "code",
   "execution_count": 8,
   "metadata": {},
   "outputs": [
    {
     "name": "stdout",
     "output_type": "stream",
     "text": [
      "abc\n",
      "abc\n"
     ]
    }
   ],
   "source": [
    "for match in matches:   #returns the occurrances of the string i am looking for\n",
    "    print(match)"
   ]
  },
  {
   "cell_type": "code",
   "execution_count": 9,
   "metadata": {},
   "outputs": [],
   "source": [
    "matches=pattern.match(test_string) #returns the occurrence of the string i am looking for only\n",
    "                                   # if it is at the beginning of the word"
   ]
  },
  {
   "cell_type": "code",
   "execution_count": 13,
   "metadata": {},
   "outputs": [
    {
     "name": "stdout",
     "output_type": "stream",
     "text": [
      "None\n"
     ]
    }
   ],
   "source": [
    "print(matches)"
   ]
  },
  {
   "cell_type": "code",
   "execution_count": 18,
   "metadata": {},
   "outputs": [],
   "source": [
    "string2='abc456789abc123ABC'"
   ]
  },
  {
   "cell_type": "code",
   "execution_count": 19,
   "metadata": {},
   "outputs": [],
   "source": [
    "matches=pattern.match(string2)"
   ]
  },
  {
   "cell_type": "code",
   "execution_count": 20,
   "metadata": {},
   "outputs": [
    {
     "data": {
      "text/plain": [
       "<re.Match object; span=(0, 3), match='abc'>"
      ]
     },
     "execution_count": 20,
     "metadata": {},
     "output_type": "execute_result"
    }
   ],
   "source": [
    "matches"
   ]
  },
  {
   "cell_type": "code",
   "execution_count": 117,
   "metadata": {},
   "outputs": [
    {
     "name": "stdout",
     "output_type": "stream",
     "text": [
      "None\n"
     ]
    }
   ],
   "source": [
    "string2='456789 abc 123 ABC '\n",
    "pattern=re.compile(r\"abc\")\n",
    "matches=pattern.match(string2)\n",
    "print(matches)"
   ]
  },
  {
   "cell_type": "code",
   "execution_count": 14,
   "metadata": {},
   "outputs": [],
   "source": [
    "matches=pattern.search(test_string)#returns span of the first occurrence of the string i am \n",
    "                                    #looking for which might be any where in the stringa"
   ]
  },
  {
   "cell_type": "code",
   "execution_count": 15,
   "metadata": {},
   "outputs": [
    {
     "name": "stdout",
     "output_type": "stream",
     "text": [
      "<re.Match object; span=(3, 6), match='abc'>\n"
     ]
    }
   ],
   "source": [
    "print(matches)"
   ]
  },
  {
   "cell_type": "code",
   "execution_count": 32,
   "metadata": {},
   "outputs": [],
   "source": [
    "pattern=re.compile(r'abc')"
   ]
  },
  {
   "cell_type": "code",
   "execution_count": 39,
   "metadata": {},
   "outputs": [],
   "source": [
    "matches=pattern.finditer(test_string) # for finditer we can use group, start, end, span methods"
   ]
  },
  {
   "cell_type": "code",
   "execution_count": 34,
   "metadata": {},
   "outputs": [
    {
     "name": "stdout",
     "output_type": "stream",
     "text": [
      "<re.Match object; span=(3, 6), match='abc'>\n",
      "<re.Match object; span=(12, 15), match='abc'>\n"
     ]
    }
   ],
   "source": [
    "for match in matches:\n",
    "    print(match)"
   ]
  },
  {
   "cell_type": "code",
   "execution_count": 47,
   "metadata": {},
   "outputs": [
    {
     "name": "stdout",
     "output_type": "stream",
     "text": [
      "(3, 6) 3 6 abc abc\n",
      "(12, 15) 12 15 abc abc\n"
     ]
    }
   ],
   "source": [
    "matches=pattern.finditer(test_string)\n",
    "for match in matches:\n",
    "    print(match.span(), match.start(), match.end(), match.group(), match.group(0))\n",
    "#         match.group(1), match.group(2))"
   ]
  },
  {
   "cell_type": "code",
   "execution_count": 45,
   "metadata": {},
   "outputs": [
    {
     "data": {
      "text/plain": [
       "'abc'"
      ]
     },
     "execution_count": 45,
     "metadata": {},
     "output_type": "execute_result"
    }
   ],
   "source": [
    "match.group()"
   ]
  },
  {
   "cell_type": "code",
   "execution_count": 54,
   "metadata": {},
   "outputs": [
    {
     "data": {
      "text/plain": [
       "((12, 15),)"
      ]
     },
     "execution_count": 54,
     "metadata": {},
     "output_type": "execute_result"
    }
   ],
   "source": [
    "match.regs"
   ]
  },
  {
   "cell_type": "code",
   "execution_count": 50,
   "metadata": {},
   "outputs": [
    {
     "data": {
      "text/plain": [
       "<re.Match object; span=(12, 15), match='abc'>"
      ]
     },
     "execution_count": 50,
     "metadata": {},
     "output_type": "execute_result"
    }
   ],
   "source": [
    "match"
   ]
  },
  {
   "cell_type": "code",
   "execution_count": 59,
   "metadata": {},
   "outputs": [],
   "source": [
    "#Meta character"
   ]
  },
  {
   "cell_type": "code",
   "execution_count": 78,
   "metadata": {},
   "outputs": [],
   "source": [
    "pattern=re.compile(r\".\")"
   ]
  },
  {
   "cell_type": "code",
   "execution_count": 83,
   "metadata": {},
   "outputs": [],
   "source": [
    "matches=pattern.finditer(test_string)"
   ]
  },
  {
   "cell_type": "code",
   "execution_count": 84,
   "metadata": {},
   "outputs": [
    {
     "name": "stdout",
     "output_type": "stream",
     "text": [
      "<re.Match object; span=(0, 1), match='1'>\n",
      "<re.Match object; span=(1, 2), match='2'>\n",
      "<re.Match object; span=(2, 3), match='3'>\n",
      "<re.Match object; span=(3, 4), match='a'>\n",
      "<re.Match object; span=(4, 5), match='b'>\n",
      "<re.Match object; span=(5, 6), match='c'>\n",
      "<re.Match object; span=(6, 7), match='4'>\n",
      "<re.Match object; span=(7, 8), match='5'>\n",
      "<re.Match object; span=(8, 9), match='6'>\n",
      "<re.Match object; span=(9, 10), match='7'>\n",
      "<re.Match object; span=(10, 11), match='8'>\n",
      "<re.Match object; span=(11, 12), match='9'>\n",
      "<re.Match object; span=(12, 13), match='a'>\n",
      "<re.Match object; span=(13, 14), match='b'>\n",
      "<re.Match object; span=(14, 15), match='c'>\n",
      "<re.Match object; span=(15, 16), match='1'>\n",
      "<re.Match object; span=(16, 17), match='2'>\n",
      "<re.Match object; span=(17, 18), match='3'>\n",
      "<re.Match object; span=(18, 19), match='A'>\n",
      "<re.Match object; span=(19, 20), match='B'>\n",
      "<re.Match object; span=(20, 21), match='C'>\n"
     ]
    }
   ],
   "source": [
    "for match in matches:\n",
    "    print(match)"
   ]
  },
  {
   "cell_type": "code",
   "execution_count": 87,
   "metadata": {},
   "outputs": [
    {
     "name": "stdout",
     "output_type": "stream",
     "text": [
      "1\n",
      "2\n",
      "3\n",
      "a\n",
      "b\n",
      "c\n",
      "4\n",
      "5\n",
      "6\n",
      "7\n",
      "8\n",
      "9\n",
      "a\n",
      "b\n",
      "c\n",
      "1\n",
      "2\n",
      "3\n",
      "A\n",
      "B\n",
      "C\n"
     ]
    }
   ],
   "source": [
    "pattern=re.compile(r\".\")\n",
    "matches=pattern.finditer(test_string)\n",
    "for match in matches:\n",
    "    print(match.group())"
   ]
  },
  {
   "cell_type": "code",
   "execution_count": 89,
   "metadata": {},
   "outputs": [],
   "source": [
    "test_string='123abc456789abc123ABC.'"
   ]
  },
  {
   "cell_type": "code",
   "execution_count": 91,
   "metadata": {},
   "outputs": [
    {
     "name": "stdout",
     "output_type": "stream",
     "text": [
      "<re.Match object; span=(21, 22), match='.'>\n"
     ]
    }
   ],
   "source": [
    "test_string='123abc456789abc123ABC.'\n",
    "pattern=re.compile(r\"\\.\")         #finds the . in the string \\ is the escape character\n",
    "matches=pattern.finditer(test_string)\n",
    "for match in matches:\n",
    "    print(match)"
   ]
  },
  {
   "cell_type": "code",
   "execution_count": null,
   "metadata": {},
   "outputs": [],
   "source": [
    "test_string='123abc456789abc123ABC.'\n",
    "pattern=re.compile(r\"\\.\")\n",
    "matches=pattern.finditer(test_string)\n",
    "for match in matches:\n",
    "    print(match)"
   ]
  },
  {
   "cell_type": "code",
   "execution_count": 92,
   "metadata": {},
   "outputs": [
    {
     "name": "stdout",
     "output_type": "stream",
     "text": [
      "<re.Match object; span=(0, 3), match='123'>\n"
     ]
    }
   ],
   "source": [
    "test_string='123abc456789abc123ABC.'\n",
    "pattern=re.compile(r\"^123\")         #returns the span of starts with 123 similar to search()\n",
    "matches=pattern.finditer(test_string)\n",
    "for match in matches:\n",
    "    print(match)"
   ]
  },
  {
   "cell_type": "code",
   "execution_count": 94,
   "metadata": {},
   "outputs": [
    {
     "name": "stdout",
     "output_type": "stream",
     "text": [
      "<re.Match object; span=(0, 3), match='123'>\n"
     ]
    }
   ],
   "source": [
    "test_string='123abc456789abc123ABC.'\n",
    "pattern=re.compile(r\"123\")\n",
    "matches=pattern.search(test_string)\n",
    "#for match in matches:\n",
    "print(match)"
   ]
  },
  {
   "cell_type": "code",
   "execution_count": 101,
   "metadata": {},
   "outputs": [
    {
     "name": "stdout",
     "output_type": "stream",
     "text": [
      "<re.Match object; span=(18, 21), match='ABC'>\n"
     ]
    }
   ],
   "source": [
    "test_string='123abc456789abc123ABC'\n",
    "pattern=re.compile(r\"ABC$\")    #returns the span of the string ends with given string\n",
    "matches=pattern.finditer(test_string)\n",
    "for match in matches:\n",
    "    print(match)"
   ]
  },
  {
   "cell_type": "code",
   "execution_count": 105,
   "metadata": {},
   "outputs": [
    {
     "name": "stdout",
     "output_type": "stream",
     "text": [
      "<re.Match object; span=(0, 1), match='1'>\n",
      "<re.Match object; span=(1, 2), match='2'>\n",
      "<re.Match object; span=(2, 3), match='3'>\n",
      "<re.Match object; span=(6, 7), match='4'>\n",
      "<re.Match object; span=(7, 8), match='5'>\n",
      "<re.Match object; span=(8, 9), match='6'>\n",
      "<re.Match object; span=(9, 10), match='7'>\n",
      "<re.Match object; span=(10, 11), match='8'>\n",
      "<re.Match object; span=(11, 12), match='9'>\n",
      "<re.Match object; span=(15, 16), match='1'>\n",
      "<re.Match object; span=(16, 17), match='2'>\n",
      "<re.Match object; span=(17, 18), match='3'>\n"
     ]
    }
   ],
   "source": [
    "test_string='123abc456789abc123ABC.'\n",
    "pattern=re.compile(r\"\\d\")             #returns span of each digits between 0-9\n",
    "matches=pattern.finditer(test_string)\n",
    "for match in matches:\n",
    "    print(match)"
   ]
  },
  {
   "cell_type": "code",
   "execution_count": 106,
   "metadata": {},
   "outputs": [
    {
     "name": "stdout",
     "output_type": "stream",
     "text": [
      "<re.Match object; span=(3, 4), match='a'>\n",
      "<re.Match object; span=(4, 5), match='b'>\n",
      "<re.Match object; span=(5, 6), match='c'>\n",
      "<re.Match object; span=(12, 13), match='a'>\n",
      "<re.Match object; span=(13, 14), match='b'>\n",
      "<re.Match object; span=(14, 15), match='c'>\n",
      "<re.Match object; span=(18, 19), match='A'>\n",
      "<re.Match object; span=(19, 20), match='B'>\n",
      "<re.Match object; span=(20, 21), match='C'>\n",
      "<re.Match object; span=(21, 22), match='.'>\n"
     ]
    }
   ],
   "source": [
    "test_string='123abc456789abc123ABC.'\n",
    "pattern=re.compile(r\"\\D\")             #returns span of each non digits(other than 0-9)\n",
    "matches=pattern.finditer(test_string)\n",
    "for match in matches:\n",
    "    print(match)"
   ]
  },
  {
   "cell_type": "code",
   "execution_count": 107,
   "metadata": {},
   "outputs": [
    {
     "name": "stdout",
     "output_type": "stream",
     "text": [
      "<re.Match object; span=(3, 4), match=' '>\n",
      "<re.Match object; span=(7, 8), match=' '>\n",
      "<re.Match object; span=(14, 15), match=' '>\n",
      "<re.Match object; span=(18, 19), match=' '>\n",
      "<re.Match object; span=(22, 23), match=' '>\n",
      "<re.Match object; span=(26, 27), match=' '>\n",
      "<re.Match object; span=(27, 28), match='\\t'>\n",
      "<re.Match object; span=(28, 29), match=' '>\n",
      "<re.Match object; span=(29, 30), match='\\n'>\n"
     ]
    }
   ],
   "source": [
    "test_string='123 abc 456789 abc 123 ABC \\t \\n.'\n",
    "pattern=re.compile(r\"\\s\")  # returns the span of white space characters such as blank, \\t, \\n etc\n",
    "matches=pattern.finditer(test_string)\n",
    "for match in matches:\n",
    "    print(match)"
   ]
  },
  {
   "cell_type": "code",
   "execution_count": 108,
   "metadata": {},
   "outputs": [
    {
     "name": "stdout",
     "output_type": "stream",
     "text": [
      "<re.Match object; span=(0, 1), match='1'>\n",
      "<re.Match object; span=(1, 2), match='2'>\n",
      "<re.Match object; span=(2, 3), match='3'>\n",
      "<re.Match object; span=(4, 5), match='a'>\n",
      "<re.Match object; span=(5, 6), match='b'>\n",
      "<re.Match object; span=(6, 7), match='c'>\n",
      "<re.Match object; span=(8, 9), match='4'>\n",
      "<re.Match object; span=(9, 10), match='5'>\n",
      "<re.Match object; span=(10, 11), match='6'>\n",
      "<re.Match object; span=(11, 12), match='7'>\n",
      "<re.Match object; span=(12, 13), match='8'>\n",
      "<re.Match object; span=(13, 14), match='9'>\n",
      "<re.Match object; span=(15, 16), match='a'>\n",
      "<re.Match object; span=(16, 17), match='b'>\n",
      "<re.Match object; span=(17, 18), match='c'>\n",
      "<re.Match object; span=(19, 20), match='1'>\n",
      "<re.Match object; span=(20, 21), match='2'>\n",
      "<re.Match object; span=(21, 22), match='3'>\n",
      "<re.Match object; span=(23, 24), match='A'>\n",
      "<re.Match object; span=(24, 25), match='B'>\n",
      "<re.Match object; span=(25, 26), match='C'>\n",
      "<re.Match object; span=(30, 31), match='.'>\n"
     ]
    }
   ],
   "source": [
    "test_string='123 abc 456789 abc 123 ABC \\t \\n.'\n",
    "pattern=re.compile(r\"\\S\") #returns span of non white space character(other than ' ',\\t,\\n etc)\n",
    "matches=pattern.finditer(test_string)\n",
    "for match in matches:\n",
    "    print(match)"
   ]
  },
  {
   "cell_type": "code",
   "execution_count": 125,
   "metadata": {},
   "outputs": [
    {
     "name": "stdout",
     "output_type": "stream",
     "text": [
      "<re.Match object; span=(0, 1), match='1'>\n",
      "<re.Match object; span=(1, 2), match='2'>\n",
      "<re.Match object; span=(2, 3), match='3'>\n",
      "<re.Match object; span=(4, 5), match='a'>\n",
      "<re.Match object; span=(5, 6), match='b'>\n",
      "<re.Match object; span=(6, 7), match='c'>\n",
      "<re.Match object; span=(8, 9), match='4'>\n",
      "<re.Match object; span=(9, 10), match='5'>\n",
      "<re.Match object; span=(10, 11), match='6'>\n",
      "<re.Match object; span=(11, 12), match='7'>\n",
      "<re.Match object; span=(12, 13), match='8'>\n",
      "<re.Match object; span=(13, 14), match='9'>\n",
      "<re.Match object; span=(15, 16), match='a'>\n",
      "<re.Match object; span=(16, 17), match='b'>\n",
      "<re.Match object; span=(17, 18), match='c'>\n",
      "<re.Match object; span=(19, 20), match='1'>\n",
      "<re.Match object; span=(20, 21), match='2'>\n",
      "<re.Match object; span=(21, 22), match='3'>\n",
      "<re.Match object; span=(23, 24), match='A'>\n",
      "<re.Match object; span=(24, 25), match='B'>\n",
      "<re.Match object; span=(25, 26), match='C'>\n",
      "<re.Match object; span=(27, 28), match='_'>\n"
     ]
    }
   ],
   "source": [
    "test_string='123 abc 456789 abc 123 ABC _ - \\t \\n.'\n",
    "pattern=re.compile(r\"\\w\")  #returns the span of alphanumeric character\n",
    "matches=pattern.finditer(test_string)\n",
    "for match in matches:\n",
    "    print(match)"
   ]
  },
  {
   "cell_type": "code",
   "execution_count": 103,
   "metadata": {},
   "outputs": [
    {
     "name": "stdout",
     "output_type": "stream",
     "text": [
      "<re.Match object; span=(0, 6), match='123 ab'>\n",
      "<re.Match object; span=(19, 25), match='123 AB'>\n"
     ]
    }
   ],
   "source": [
    "test_string='123 abc 456789 abc 123 ABC \\t \\n.'\n",
    "pattern=re.compile(r\"123 \\w\\w\")  #returns the span of alphanumeric character\n",
    "matches=pattern.finditer(test_string)\n",
    "for match in matches:\n",
    "    print(match)"
   ]
  },
  {
   "cell_type": "code",
   "execution_count": 104,
   "metadata": {},
   "outputs": [
    {
     "name": "stdout",
     "output_type": "stream",
     "text": [
      "<re.Match object; span=(0, 7), match='123 abc'>\n",
      "<re.Match object; span=(19, 26), match='123 ABC'>\n"
     ]
    }
   ],
   "source": [
    "test_string='123 abc 456789 abc 123 ABC \\t \\n.'\n",
    "pattern=re.compile(r\"123 \\w*\")  #returns the span of alphanumeric character\n",
    "matches=pattern.finditer(test_string)\n",
    "for match in matches:\n",
    "    print(match)"
   ]
  },
  {
   "cell_type": "code",
   "execution_count": 105,
   "metadata": {},
   "outputs": [
    {
     "name": "stdout",
     "output_type": "stream",
     "text": [
      "<re.Match object; span=(0, 7), match='123 abc'>\n",
      "<re.Match object; span=(19, 26), match='123 ABC'>\n"
     ]
    }
   ],
   "source": [
    "test_string='123 abc 456789 abc 123 ABC \\t \\n.'\n",
    "pattern=re.compile(r\"123 \\w+\")  #returns the span of alphanumeric character\n",
    "matches=pattern.finditer(test_string)\n",
    "for match in matches:\n",
    "    print(match)"
   ]
  },
  {
   "cell_type": "code",
   "execution_count": 107,
   "metadata": {},
   "outputs": [
    {
     "name": "stdout",
     "output_type": "stream",
     "text": [
      "zzz 456789 abc zzz \t \n",
      ".\n"
     ]
    }
   ],
   "source": [
    "test_string='123 abc 456789 abc 123 ABC \\t \\n.'\n",
    "pattern=re.compile(r\"123 \\w+\")  #returns the span of alphanumeric character\n",
    "matches=pattern.sub('zzz', test_string)\n",
    "print(matches)"
   ]
  },
  {
   "cell_type": "code",
   "execution_count": 111,
   "metadata": {},
   "outputs": [
    {
     "name": "stdout",
     "output_type": "stream",
     "text": [
      "['a', 'A']\n"
     ]
    }
   ],
   "source": [
    "test_string='123 abc 456789 abc 123 ABC \\t \\n.'\n",
    "pattern=re.compile(r\"123 (\\w)\\w*\")  #returns only the matching group not entier match\n",
    "matches=pattern.findall(test_string)\n",
    "print(matches)"
   ]
  },
  {
   "cell_type": "code",
   "execution_count": 114,
   "metadata": {},
   "outputs": [
    {
     "name": "stdout",
     "output_type": "stream",
     "text": [
      "['a', 'A']\n",
      "PPP aRRRRR 456789 abc PPP ARRRRR \t \n",
      ".\n"
     ]
    }
   ],
   "source": [
    "test_string='123 abc 456789 abc 123 ABC \\t \\n.'\n",
    "pattern=re.compile(r\"123 (\\w)\\w*\")  #returns only the matching group not entier match\n",
    "matches=pattern.findall(test_string)\n",
    "print(matches)\n",
    "matches=pattern.sub(r\"PPP \\1RRRRR\",test_string)\n",
    "print(matches)"
   ]
  },
  {
   "cell_type": "code",
   "execution_count": 111,
   "metadata": {},
   "outputs": [
    {
     "name": "stdout",
     "output_type": "stream",
     "text": [
      "<re.Match object; span=(3, 4), match=' '>\n",
      "<re.Match object; span=(7, 8), match=' '>\n",
      "<re.Match object; span=(14, 15), match=' '>\n",
      "<re.Match object; span=(18, 19), match=' '>\n",
      "<re.Match object; span=(22, 23), match=' '>\n",
      "<re.Match object; span=(26, 27), match=' '>\n",
      "<re.Match object; span=(27, 28), match='\\t'>\n",
      "<re.Match object; span=(28, 29), match=' '>\n",
      "<re.Match object; span=(29, 30), match='\\n'>\n",
      "<re.Match object; span=(30, 31), match='.'>\n"
     ]
    }
   ],
   "source": [
    "test_string='123 abc 456789 abc 123 ABC \\t \\n.'\n",
    "pattern=re.compile(r\"\\W\") #returns span of other than alphanumeric character\n",
    "matches=pattern.finditer(test_string)\n",
    "for match in matches:\n",
    "    print(match)"
   ]
  },
  {
   "cell_type": "code",
   "execution_count": 118,
   "metadata": {},
   "outputs": [
    {
     "name": "stdout",
     "output_type": "stream",
     "text": [
      "<re.Match object; span=(32, 35), match='zzz'>\n"
     ]
    }
   ],
   "source": [
    "test_string='123 abc 456789 abc 123zzzz ABC \\tzzzz \\nyyyyy.'\n",
    "pattern=re.compile(r'\\bzzz')  #returns the span of the string which is at the beginning of the \n",
    "                            # block. Block is any set of characteres which follws white space\n",
    "                            #characters such as blank, \\n, \\t\n",
    "matches=pattern.finditer(test_string)\n",
    "for match in matches:\n",
    "    print(match)"
   ]
  },
  {
   "cell_type": "code",
   "execution_count": 119,
   "metadata": {},
   "outputs": [
    {
     "name": "stdout",
     "output_type": "stream",
     "text": [
      "<re.Match object; span=(23, 26), match='zzz'>\n",
      "<re.Match object; span=(33, 36), match='zzz'>\n"
     ]
    }
   ],
   "source": [
    "test_string='123 abc 456789 abc 123zzzz ABC \\tzzzz \\nyyyyy.'\n",
    "pattern=re.compile(r'zzz\\b')  #returns the span of the string which is at the end of the \n",
    "                            # block. Block is any set of characteres which follws white space\n",
    "                            #characters such as blank, \\n, \\t\n",
    "matches=pattern.finditer(test_string)\n",
    "for match in matches:\n",
    "    print(match)"
   ]
  },
  {
   "cell_type": "code",
   "execution_count": null,
   "metadata": {},
   "outputs": [],
   "source": [
    "#using sets []"
   ]
  },
  {
   "cell_type": "code",
   "execution_count": 121,
   "metadata": {},
   "outputs": [
    {
     "name": "stdout",
     "output_type": "stream",
     "text": [
      "<re.Match object; span=(4, 5), match='a'>\n",
      "<re.Match object; span=(12, 13), match='8'>\n",
      "<re.Match object; span=(15, 16), match='a'>\n",
      "<re.Match object; span=(27, 28), match='A'>\n",
      "<re.Match object; span=(43, 44), match='.'>\n"
     ]
    }
   ],
   "source": [
    "test_string='123 abc 456789 abc 123zzzz ABC \\tzzzz \\nyyyyy.'\n",
    "pattern=re.compile(r'[a8A\\.]')  #Set [] allows to put multiple select conditions in it\n",
    "                            #here it returns the span of letter a, 8 , A any where in the string\n",
    "matches=pattern.finditer(test_string)\n",
    "for match in matches:\n",
    "    print(match)"
   ]
  },
  {
   "cell_type": "code",
   "execution_count": 122,
   "metadata": {},
   "outputs": [
    {
     "name": "stdout",
     "output_type": "stream",
     "text": [
      "<re.Match object; span=(4, 5), match='a'>\n",
      "<re.Match object; span=(5, 6), match='b'>\n",
      "<re.Match object; span=(6, 7), match='c'>\n",
      "<re.Match object; span=(15, 16), match='a'>\n",
      "<re.Match object; span=(16, 17), match='b'>\n",
      "<re.Match object; span=(17, 18), match='c'>\n",
      "<re.Match object; span=(22, 23), match='z'>\n",
      "<re.Match object; span=(23, 24), match='z'>\n",
      "<re.Match object; span=(24, 25), match='z'>\n",
      "<re.Match object; span=(25, 26), match='z'>\n",
      "<re.Match object; span=(32, 33), match='z'>\n",
      "<re.Match object; span=(33, 34), match='z'>\n",
      "<re.Match object; span=(34, 35), match='z'>\n",
      "<re.Match object; span=(35, 36), match='z'>\n",
      "<re.Match object; span=(38, 39), match='y'>\n",
      "<re.Match object; span=(39, 40), match='y'>\n",
      "<re.Match object; span=(40, 41), match='y'>\n",
      "<re.Match object; span=(41, 42), match='y'>\n",
      "<re.Match object; span=(42, 43), match='y'>\n"
     ]
    }
   ],
   "source": [
    "test_string='123 abc 456789 abc 123zzzz ABC \\tzzzz \\nyyyyy.'\n",
    "pattern=re.compile(r'[a-z]')  #Set [] allows to put multiple select conditions in it\n",
    "                            #here it returns the span of letter a-z any where in the string\n",
    "matches=pattern.finditer(test_string)\n",
    "for match in matches:\n",
    "    print(match)"
   ]
  },
  {
   "cell_type": "code",
   "execution_count": 123,
   "metadata": {},
   "outputs": [
    {
     "name": "stdout",
     "output_type": "stream",
     "text": [
      "<re.Match object; span=(0, 1), match='1'>\n",
      "<re.Match object; span=(1, 2), match='2'>\n",
      "<re.Match object; span=(2, 3), match='3'>\n",
      "<re.Match object; span=(8, 9), match='4'>\n",
      "<re.Match object; span=(9, 10), match='5'>\n",
      "<re.Match object; span=(10, 11), match='6'>\n",
      "<re.Match object; span=(11, 12), match='7'>\n",
      "<re.Match object; span=(12, 13), match='8'>\n",
      "<re.Match object; span=(13, 14), match='9'>\n",
      "<re.Match object; span=(19, 20), match='1'>\n",
      "<re.Match object; span=(20, 21), match='2'>\n",
      "<re.Match object; span=(21, 22), match='3'>\n"
     ]
    }
   ],
   "source": [
    "test_string='123 abc 456789 abc 123zzzz ABC \\tzzzz \\nyyyyy.'\n",
    "pattern=re.compile(r'[0-9]')  #Set [] allows to put multiple select conditions in it\n",
    "                            #here it returns the span of letter 0-9 any where in the string\n",
    "matches=pattern.finditer(test_string)\n",
    "for match in matches:\n",
    "    print(match)"
   ]
  },
  {
   "cell_type": "code",
   "execution_count": 124,
   "metadata": {},
   "outputs": [
    {
     "name": "stdout",
     "output_type": "stream",
     "text": [
      "<re.Match object; span=(8, 9), match='4'>\n",
      "<re.Match object; span=(9, 10), match='5'>\n",
      "<re.Match object; span=(10, 11), match='6'>\n",
      "<re.Match object; span=(11, 12), match='7'>\n",
      "<re.Match object; span=(12, 13), match='8'>\n"
     ]
    }
   ],
   "source": [
    "test_string='123 abc 456789 abc 123zzzz ABC \\tzzzz \\nyyyyy.'\n",
    "pattern=re.compile(r'[4-8]')  #Set [] allows to put multiple select conditions in it\n",
    "                            #here it returns the span of letter 4 to 8 any where in the string\n",
    "matches=pattern.finditer(test_string)\n",
    "for match in matches:\n",
    "    print(match)"
   ]
  },
  {
   "cell_type": "code",
   "execution_count": 125,
   "metadata": {},
   "outputs": [
    {
     "name": "stdout",
     "output_type": "stream",
     "text": [
      "<re.Match object; span=(4, 5), match='a'>\n",
      "<re.Match object; span=(5, 6), match='b'>\n",
      "<re.Match object; span=(6, 7), match='c'>\n",
      "<re.Match object; span=(15, 16), match='a'>\n",
      "<re.Match object; span=(16, 17), match='b'>\n",
      "<re.Match object; span=(17, 18), match='c'>\n",
      "<re.Match object; span=(19, 20), match='-'>\n",
      "<re.Match object; span=(23, 24), match='z'>\n",
      "<re.Match object; span=(24, 25), match='z'>\n",
      "<re.Match object; span=(25, 26), match='z'>\n",
      "<re.Match object; span=(26, 27), match='z'>\n",
      "<re.Match object; span=(33, 34), match='z'>\n",
      "<re.Match object; span=(34, 35), match='z'>\n",
      "<re.Match object; span=(35, 36), match='z'>\n",
      "<re.Match object; span=(36, 37), match='z'>\n",
      "<re.Match object; span=(39, 40), match='y'>\n",
      "<re.Match object; span=(40, 41), match='y'>\n",
      "<re.Match object; span=(41, 42), match='y'>\n",
      "<re.Match object; span=(42, 43), match='y'>\n",
      "<re.Match object; span=(43, 44), match='y'>\n"
     ]
    }
   ],
   "source": [
    "test_string='123 abc 456789 abc -123zzzz ABC \\tzzzz \\nyyyyy.'\n",
    "pattern=re.compile(r'[a-z-]')  #Set [] allows to put multiple select conditions in it\n",
    "                            #here it returns the span of letter a-z & - any where in the string\n",
    "matches=pattern.finditer(test_string)\n",
    "for match in matches:\n",
    "    print(match)"
   ]
  },
  {
   "cell_type": "code",
   "execution_count": 1,
   "metadata": {},
   "outputs": [
    {
     "name": "stdout",
     "output_type": "stream",
     "text": [
      "<re.Match object; span=(0, 1), match='1'>\n",
      "<re.Match object; span=(1, 2), match='2'>\n",
      "<re.Match object; span=(2, 3), match='3'>\n",
      "<re.Match object; span=(4, 5), match='a'>\n",
      "<re.Match object; span=(5, 6), match='b'>\n",
      "<re.Match object; span=(6, 7), match='c'>\n",
      "<re.Match object; span=(8, 9), match='4'>\n",
      "<re.Match object; span=(9, 10), match='5'>\n",
      "<re.Match object; span=(10, 11), match='6'>\n",
      "<re.Match object; span=(11, 12), match='7'>\n",
      "<re.Match object; span=(12, 13), match='8'>\n",
      "<re.Match object; span=(13, 14), match='9'>\n",
      "<re.Match object; span=(15, 16), match='a'>\n",
      "<re.Match object; span=(16, 17), match='b'>\n",
      "<re.Match object; span=(17, 18), match='c'>\n",
      "<re.Match object; span=(19, 20), match='1'>\n",
      "<re.Match object; span=(20, 21), match='2'>\n",
      "<re.Match object; span=(21, 22), match='3'>\n",
      "<re.Match object; span=(22, 23), match='z'>\n",
      "<re.Match object; span=(23, 24), match='z'>\n",
      "<re.Match object; span=(24, 25), match='z'>\n",
      "<re.Match object; span=(25, 26), match='z'>\n",
      "<re.Match object; span=(27, 28), match='A'>\n",
      "<re.Match object; span=(28, 29), match='B'>\n",
      "<re.Match object; span=(29, 30), match='C'>\n",
      "<re.Match object; span=(32, 33), match='z'>\n",
      "<re.Match object; span=(33, 34), match='z'>\n",
      "<re.Match object; span=(34, 35), match='z'>\n",
      "<re.Match object; span=(35, 36), match='z'>\n",
      "<re.Match object; span=(38, 39), match='y'>\n",
      "<re.Match object; span=(39, 40), match='y'>\n",
      "<re.Match object; span=(40, 41), match='y'>\n",
      "<re.Match object; span=(41, 42), match='y'>\n",
      "<re.Match object; span=(42, 43), match='y'>\n",
      "<re.Match object; span=(43, 44), match='.'>\n"
     ]
    }
   ],
   "source": [
    "import re\n",
    "test_string='123 abc 456789 abc 123zzzz ABC \\tzzzz \\nyyyyy.'\n",
    "pattern=re.compile(r'[a-zA-Z0-94-8\\.-]')  #Set [] allows to put multiple select conditions in it\n",
    "                            #here it returns the span of letter a-z any where in the string\n",
    "matches=pattern.finditer(test_string)\n",
    "for match in matches:\n",
    "    print(match)"
   ]
  },
  {
   "cell_type": "code",
   "execution_count": 3,
   "metadata": {},
   "outputs": [
    {
     "name": "stdout",
     "output_type": "stream",
     "text": [
      "<re.Match object; span=(0, 1), match='1'>\n",
      "<re.Match object; span=(1, 2), match='2'>\n",
      "<re.Match object; span=(2, 3), match='3'>\n",
      "<re.Match object; span=(8, 9), match='4'>\n",
      "<re.Match object; span=(9, 10), match='5'>\n",
      "<re.Match object; span=(10, 11), match='6'>\n",
      "<re.Match object; span=(11, 12), match='7'>\n",
      "<re.Match object; span=(12, 13), match='8'>\n",
      "<re.Match object; span=(13, 14), match='9'>\n",
      "<re.Match object; span=(19, 20), match='1'>\n",
      "<re.Match object; span=(20, 21), match='2'>\n",
      "<re.Match object; span=(21, 22), match='3'>\n"
     ]
    }
   ],
   "source": [
    "test_string='123 abc 456789 abc 123zzzz ABC \\tzzzz \\nyyyyy.'\n",
    "pattern=re.compile(r\"\\d\")\n",
    "matches=pattern.finditer(test_string)\n",
    "for match in matches:\n",
    "    print(match)"
   ]
  },
  {
   "cell_type": "code",
   "execution_count": 4,
   "metadata": {},
   "outputs": [
    {
     "name": "stdout",
     "output_type": "stream",
     "text": [
      "<re.Match object; span=(0, 3), match='123'>\n",
      "<re.Match object; span=(3, 3), match=''>\n",
      "<re.Match object; span=(4, 4), match=''>\n",
      "<re.Match object; span=(5, 5), match=''>\n",
      "<re.Match object; span=(6, 6), match=''>\n",
      "<re.Match object; span=(7, 7), match=''>\n",
      "<re.Match object; span=(8, 14), match='456789'>\n",
      "<re.Match object; span=(14, 14), match=''>\n",
      "<re.Match object; span=(15, 15), match=''>\n",
      "<re.Match object; span=(16, 16), match=''>\n",
      "<re.Match object; span=(17, 17), match=''>\n",
      "<re.Match object; span=(18, 18), match=''>\n",
      "<re.Match object; span=(19, 22), match='123'>\n",
      "<re.Match object; span=(22, 22), match=''>\n",
      "<re.Match object; span=(23, 23), match=''>\n",
      "<re.Match object; span=(24, 24), match=''>\n",
      "<re.Match object; span=(25, 25), match=''>\n",
      "<re.Match object; span=(26, 26), match=''>\n",
      "<re.Match object; span=(27, 27), match=''>\n",
      "<re.Match object; span=(28, 28), match=''>\n",
      "<re.Match object; span=(29, 29), match=''>\n",
      "<re.Match object; span=(30, 30), match=''>\n",
      "<re.Match object; span=(31, 31), match=''>\n",
      "<re.Match object; span=(32, 32), match=''>\n",
      "<re.Match object; span=(33, 33), match=''>\n",
      "<re.Match object; span=(34, 34), match=''>\n",
      "<re.Match object; span=(35, 35), match=''>\n",
      "<re.Match object; span=(36, 36), match=''>\n",
      "<re.Match object; span=(37, 37), match=''>\n",
      "<re.Match object; span=(38, 38), match=''>\n",
      "<re.Match object; span=(39, 39), match=''>\n",
      "<re.Match object; span=(40, 40), match=''>\n",
      "<re.Match object; span=(41, 41), match=''>\n",
      "<re.Match object; span=(42, 42), match=''>\n",
      "<re.Match object; span=(43, 43), match=''>\n",
      "<re.Match object; span=(44, 44), match=''>\n"
     ]
    }
   ],
   "source": [
    "test_string='123 abc 456789 abc 123zzzz ABC \\tzzzz \\nyyyyy.'\n",
    "pattern=re.compile(r\"\\d*\")   # returns span of minimum zero or more accurrences of the digit.It gives\n",
    "                             # the continuous digits all to gether not as single digit seperately.\n",
    "matches=pattern.finditer(test_string)\n",
    "for match in matches:\n",
    "    print(match)"
   ]
  },
  {
   "cell_type": "code",
   "execution_count": 5,
   "metadata": {},
   "outputs": [
    {
     "name": "stdout",
     "output_type": "stream",
     "text": [
      "<re.Match object; span=(0, 3), match='123'>\n",
      "<re.Match object; span=(8, 14), match='456789'>\n",
      "<re.Match object; span=(19, 22), match='123'>\n"
     ]
    }
   ],
   "source": [
    "test_string='123 abc 456789 abc 123zzzz ABC \\tzzzz \\nyyyyy.'\n",
    "pattern=re.compile(r\"\\d+\") #it gives minimum 1 or more occrrence of the digits.It gives \n",
    "                        #continuous digits all together not as a seperate single digit.\n",
    "matches=pattern.finditer(test_string)\n",
    "for match in matches:\n",
    "    print(match)"
   ]
  },
  {
   "cell_type": "code",
   "execution_count": 7,
   "metadata": {},
   "outputs": [
    {
     "name": "stdout",
     "output_type": "stream",
     "text": [
      "<re.Match object; span=(19, 21), match='_1'>\n"
     ]
    }
   ],
   "source": [
    "test_string='123 abc 456789 abc _123zzzz ABC \\tzzzz \\nyyyyy.'\n",
    "pattern=re.compile(r\"_\\d\") #returns span of _followed by digit\n",
    "matches=pattern.finditer(test_string)\n",
    "for match in matches:\n",
    "    print(match)"
   ]
  },
  {
   "cell_type": "code",
   "execution_count": 9,
   "metadata": {},
   "outputs": [
    {
     "name": "stdout",
     "output_type": "stream",
     "text": [
      "<re.Match object; span=(0, 1), match='1'>\n",
      "<re.Match object; span=(1, 2), match='2'>\n",
      "<re.Match object; span=(2, 3), match='3'>\n",
      "<re.Match object; span=(8, 9), match='4'>\n",
      "<re.Match object; span=(9, 10), match='5'>\n",
      "<re.Match object; span=(10, 11), match='6'>\n",
      "<re.Match object; span=(11, 12), match='7'>\n",
      "<re.Match object; span=(12, 13), match='8'>\n",
      "<re.Match object; span=(13, 14), match='9'>\n",
      "<re.Match object; span=(19, 21), match='_1'>\n",
      "<re.Match object; span=(21, 22), match='2'>\n",
      "<re.Match object; span=(22, 23), match='3'>\n"
     ]
    }
   ],
   "source": [
    "test_string='123 abc 456789 abc _123zzzz ABC \\tzzzz \\nyyyyy.'\n",
    "pattern=re.compile(r\"_?\\d\") #? is for or or optional. here we are telling that _ is optional.\n",
    "matches=pattern.finditer(test_string)\n",
    "for match in matches:\n",
    "    print(match)"
   ]
  },
  {
   "cell_type": "code",
   "execution_count": 11,
   "metadata": {},
   "outputs": [
    {
     "name": "stdout",
     "output_type": "stream",
     "text": [
      "<re.Match object; span=(0, 3), match='123'>\n",
      "<re.Match object; span=(8, 11), match='456'>\n",
      "<re.Match object; span=(11, 14), match='789'>\n",
      "<re.Match object; span=(19, 22), match='123'>\n"
     ]
    }
   ],
   "source": [
    "test_string='123 abc 456789 abc 123zzzz ABC \\tzzzz \\nyyyyy.'\n",
    "pattern=re.compile(r\"\\d{3}\") # retruns the specified number of matching digits as results here {3}\n",
    "matches=pattern.finditer(test_string)\n",
    "for match in matches:\n",
    "    print(match)"
   ]
  },
  {
   "cell_type": "code",
   "execution_count": 12,
   "metadata": {},
   "outputs": [
    {
     "name": "stdout",
     "output_type": "stream",
     "text": [
      "<re.Match object; span=(0, 2), match='12'>\n",
      "<re.Match object; span=(8, 10), match='45'>\n",
      "<re.Match object; span=(10, 12), match='67'>\n",
      "<re.Match object; span=(12, 14), match='89'>\n",
      "<re.Match object; span=(19, 21), match='12'>\n"
     ]
    }
   ],
   "source": [
    "test_string='123 abc 456789 abc 123zzzz ABC \\tzzzz \\nyyyyy.'\n",
    "pattern=re.compile(r\"\\d{2}\") # retruns the specified number of matching digits as results here {2}\n",
    "                          #here it splits the 6 digit continious number in to 2 digits\n",
    "                        # also it skips the last number in case of 3 digit number while spiltting.\n",
    "matches=pattern.finditer(test_string)\n",
    "for match in matches:\n",
    "    print(match)"
   ]
  },
  {
   "cell_type": "code",
   "execution_count": 14,
   "metadata": {},
   "outputs": [
    {
     "name": "stdout",
     "output_type": "stream",
     "text": [
      "<re.Match object; span=(0, 2), match='12'>\n",
      "<re.Match object; span=(2, 3), match='3'>\n",
      "<re.Match object; span=(8, 10), match='45'>\n",
      "<re.Match object; span=(10, 12), match='67'>\n",
      "<re.Match object; span=(12, 14), match='89'>\n",
      "<re.Match object; span=(19, 21), match='12'>\n",
      "<re.Match object; span=(21, 22), match='3'>\n"
     ]
    }
   ],
   "source": [
    "test_string='123 abc 456789 abc 123zzzz ABC \\tzzzz \\nyyyyy.'\n",
    "pattern=re.compile(r\"\\d{1,2}\") # retruns the specified range of matching digits as results here {1,2}\n",
    "matches=pattern.finditer(test_string)\n",
    "for match in matches:\n",
    "    print(match)"
   ]
  },
  {
   "cell_type": "code",
   "execution_count": 15,
   "metadata": {},
   "outputs": [],
   "source": [
    "dates=\"\"\" 01.04.2020\n",
    "2020.04.01\n",
    "2020-04-02\n",
    "2020-05-23\n",
    "2020-07-11\n",
    "02.07.2021\n",
    "2020.08.28\n",
    "2020/04/02\n",
    "2020_04_04\n",
    "2020_02_08\"\"\""
   ]
  },
  {
   "cell_type": "code",
   "execution_count": 17,
   "metadata": {},
   "outputs": [
    {
     "name": "stdout",
     "output_type": "stream",
     "text": [
      "<re.Match object; span=(23, 33), match='2020-04-02'>\n",
      "<re.Match object; span=(34, 44), match='2020-05-23'>\n",
      "<re.Match object; span=(45, 55), match='2020-07-11'>\n"
     ]
    }
   ],
   "source": [
    "dates=\"\"\" 01.04.2020\n",
    "2020.04.01\n",
    "2020-04-02\n",
    "2020-05-23\n",
    "2020-07-11\n",
    "02.07.2021\n",
    "2020.08.28\n",
    "2020/04/02\n",
    "2020_04_04\n",
    "2020_02_08\"\"\"\n",
    "pattern=re.compile(r\"\\d\\d\\d\\d-\\d\\d-\\d\\d\") # retruns the specified number of digits in a given pattern\n",
    "matches=pattern.finditer(dates)\n",
    "for match in matches:\n",
    "    print(match)"
   ]
  },
  {
   "cell_type": "code",
   "execution_count": 18,
   "metadata": {},
   "outputs": [
    {
     "name": "stdout",
     "output_type": "stream",
     "text": [
      "<re.Match object; span=(12, 22), match='2020.04.01'>\n",
      "<re.Match object; span=(67, 77), match='2020.08.28'>\n"
     ]
    }
   ],
   "source": [
    "dates=\"\"\" 01.04.2020\n",
    "2020.04.01\n",
    "2020-04-02\n",
    "2020-05-23\n",
    "2020-07-11\n",
    "02.07.2021\n",
    "2020.08.28\n",
    "2020/04/02\n",
    "2020_04_04\n",
    "2020_02_08\"\"\"\n",
    "pattern=re.compile(r\"\\d\\d\\d\\d\\.\\d\\d\\.\\d\\d\") # retruns the specified number of digits in a given pattern\n",
    "matches=pattern.finditer(dates)\n",
    "for match in matches:\n",
    "    print(match)"
   ]
  },
  {
   "cell_type": "code",
   "execution_count": 19,
   "metadata": {},
   "outputs": [
    {
     "name": "stdout",
     "output_type": "stream",
     "text": [
      "<re.Match object; span=(89, 99), match='2020_04_04'>\n",
      "<re.Match object; span=(100, 110), match='2020_02_08'>\n"
     ]
    }
   ],
   "source": [
    "dates=\"\"\" 01.04.2020\n",
    "2020.04.01\n",
    "2020-04-02\n",
    "2020-05-23\n",
    "2020-07-11\n",
    "02.07.2021\n",
    "2020.08.28\n",
    "2020/04/02\n",
    "2020_04_04\n",
    "2020_02_08\"\"\"\n",
    "pattern=re.compile(r\"\\d\\d\\d\\d_\\d\\d_\\d\\d\") # retruns the specified number of digits in a given pattern\n",
    "matches=pattern.finditer(dates)\n",
    "for match in matches:\n",
    "    print(match)"
   ]
  },
  {
   "cell_type": "code",
   "execution_count": 20,
   "metadata": {},
   "outputs": [
    {
     "name": "stdout",
     "output_type": "stream",
     "text": [
      "<re.Match object; span=(78, 88), match='2020/04/02'>\n"
     ]
    }
   ],
   "source": [
    "dates=\"\"\" 01.04.2020\n",
    "2020.04.01\n",
    "2020-04-02\n",
    "2020-05-23\n",
    "2020-07-11\n",
    "02.07.2021\n",
    "2020.08.28\n",
    "2020/04/02\n",
    "2020_04_04\n",
    "2020_02_08\"\"\"\n",
    "pattern=re.compile(r\"\\d\\d\\d\\d/\\d\\d/\\d\\d\") # retruns the specified number of digits in a given pattern\n",
    "matches=pattern.finditer(dates)\n",
    "for match in matches:\n",
    "    print(match)"
   ]
  },
  {
   "cell_type": "code",
   "execution_count": 21,
   "metadata": {},
   "outputs": [
    {
     "name": "stdout",
     "output_type": "stream",
     "text": [
      "<re.Match object; span=(23, 33), match='2020-04-02'>\n",
      "<re.Match object; span=(34, 44), match='2020-05-23'>\n",
      "<re.Match object; span=(45, 55), match='2020-07-11'>\n"
     ]
    }
   ],
   "source": [
    "dates=\"\"\" 01.04.2020\n",
    "2020.04.01\n",
    "2020-04-02\n",
    "2020-05-23\n",
    "2020-07-11\n",
    "02.07.2021\n",
    "2020.08.28\n",
    "2020/04/02\n",
    "2020_04_04\n",
    "2020_02_08\"\"\"\n",
    "pattern=re.compile(r\"\\d{4}-\\d{2}-\\d{2}\") # retruns the specified number of digits in a given pattern\n",
    "matches=pattern.finditer(dates)\n",
    "for match in matches:\n",
    "    print(match)"
   ]
  },
  {
   "cell_type": "code",
   "execution_count": 25,
   "metadata": {},
   "outputs": [
    {
     "name": "stdout",
     "output_type": "stream",
     "text": [
      "<re.Match object; span=(12, 22), match='2020.04.01'>\n",
      "<re.Match object; span=(23, 33), match='2020-04-02'>\n",
      "<re.Match object; span=(34, 44), match='2020-05-23'>\n",
      "<re.Match object; span=(45, 55), match='2020-07-11'>\n",
      "<re.Match object; span=(67, 77), match='2020.08.28'>\n",
      "<re.Match object; span=(78, 88), match='2020/04/02'>\n",
      "<re.Match object; span=(89, 99), match='2020_04_04'>\n",
      "<re.Match object; span=(100, 110), match='2020_02_08'>\n"
     ]
    }
   ],
   "source": [
    "dates=\"\"\" 01.04.2020\n",
    "2020.04.01\n",
    "2020-04-02\n",
    "2020-05-23\n",
    "2020-07-11\n",
    "02.07.2021\n",
    "2020.08.28\n",
    "2020/04/02\n",
    "2020_04_04\n",
    "2020_02_08\"\"\"\n",
    "pattern=re.compile(r\"\\d\\d\\d\\d.\\d\\d.\\d\\d\") # retruns the specified number of digits in a given pattern\n",
    "matches=pattern.finditer(dates)\n",
    "for match in matches:\n",
    "    print(match)"
   ]
  },
  {
   "cell_type": "code",
   "execution_count": 28,
   "metadata": {},
   "outputs": [
    {
     "name": "stdout",
     "output_type": "stream",
     "text": [
      "<re.Match object; span=(12, 22), match='2020.04.01'>\n",
      "<re.Match object; span=(23, 33), match='2020-04-02'>\n",
      "<re.Match object; span=(34, 44), match='2020-05-23'>\n",
      "<re.Match object; span=(45, 55), match='2020-07-11'>\n",
      "<re.Match object; span=(67, 77), match='2020.08.28'>\n",
      "<re.Match object; span=(78, 88), match='2020/04/02'>\n",
      "<re.Match object; span=(89, 99), match='2020_04_04'>\n",
      "<re.Match object; span=(100, 110), match='2020_02_08'>\n"
     ]
    }
   ],
   "source": [
    "dates=\"\"\" 01.04.2020\n",
    "2020.04.01\n",
    "2020-04-02\n",
    "2020-05-23\n",
    "2020-07-11j]\\''\n",
    "02.07.2021\n",
    "2020.08.28\n",
    "2020/04/02\n",
    "2020_04_04\n",
    "2020_02_08\"\"\"\n",
    "pattern=re.compile(r\"\\d\\d\\d\\d[-_/\\.]\\d\\d[-_/\\.]\\d\\d\") # retruns the specified number of digits in a given pattern\n",
    "matches=pattern.finditer(dates)\n",
    "for match in matches:\n",
    "    print(match)"
   ]
  },
  {
   "cell_type": "code",
   "execution_count": 33,
   "metadata": {},
   "outputs": [
    {
     "name": "stdout",
     "output_type": "stream",
     "text": [
      "<re.Match object; span=(34, 44), match='2020-05-23'>\n",
      "<re.Match object; span=(45, 55), match='2020-07-11'>\n",
      "<re.Match object; span=(71, 81), match='2020.08.28'>\n"
     ]
    }
   ],
   "source": [
    "dates=\"\"\" 01.04.2020\n",
    "2020.04.01\n",
    "2020-04-02\n",
    "2020-05-23\n",
    "2020-07-11j]\\''\n",
    "02.07.2021\n",
    "2020.08.28\n",
    "2020/04/02\n",
    "2020_04_04\n",
    "2020_02_08\"\"\"\n",
    "pattern=re.compile(r\"\\d\\d\\d\\d[-_/\\.]0[5-8][-_/\\.]\\d\\d\") # retruns the specified number of digits in a given pattern\n",
    "matches=pattern.finditer(dates)\n",
    "for match in matches:\n",
    "    print(match)"
   ]
  },
  {
   "cell_type": "code",
   "execution_count": 34,
   "metadata": {},
   "outputs": [
    {
     "name": "stdout",
     "output_type": "stream",
     "text": [
      "<re.Match object; span=(34, 44), match='2020-05-23'>\n",
      "<re.Match object; span=(71, 81), match='2020.08.28'>\n"
     ]
    }
   ],
   "source": [
    "dates=\"\"\" 01.04.2020\n",
    "2020.04.01\n",
    "2020-04-02\n",
    "2020-05-23\n",
    "2020-07-11j]\\''\n",
    "02.07.2021\n",
    "2020.08.28\n",
    "2020/04/02\n",
    "2020_04_04\n",
    "2020_02_08\"\"\"\n",
    "pattern=re.compile(r\"\\d\\d\\d\\d[-_/\\.]0[58][-_/\\.]\\d\\d\") # retruns the specified number of digits in a given pattern\n",
    "matches=pattern.finditer(dates)\n",
    "for match in matches:\n",
    "    print(match)"
   ]
  },
  {
   "cell_type": "code",
   "execution_count": null,
   "metadata": {},
   "outputs": [],
   "source": [
    "dates=\"\"\" 01.04.2020\n",
    "2020.04.01\n",
    "2020-04-02\n",
    "2020-05-23\n",
    "2020-07-11j]\\''\n",
    "02.07.2021\n",
    "2020.08.28\n",
    "2020/04/02\n",
    "2020_04_04\n",
    "2020_02_08\"\"\"\n",
    "pattern=re.compile(r\"\\d\\d\\d\\d[-_/\\.]0[5-8][-_/\\.]\\d\\d\") # retruns the specified number of digits in a given pattern\n",
    "matches=pattern.finditer(dates)\n",
    "for match in matches:\n",
    "    print(match)"
   ]
  },
  {
   "cell_type": "code",
   "execution_count": 35,
   "metadata": {},
   "outputs": [
    {
     "name": "stdout",
     "output_type": "stream",
     "text": [
      "<re.Match object; span=(31, 41), match='Mr Simpson'>\n"
     ]
    }
   ],
   "source": [
    "#Conditions\n",
    "my_string='''\n",
    "hello world\n",
    "124324\n",
    "2020-02-25\n",
    "Mr Simpson\n",
    "Mrs Simpson\n",
    "Mr. Brown\n",
    "Mrs. Brown\n",
    "Ms  Smith\n",
    "Mr. T\n",
    "'''\n",
    "pattern=re.compile(r\"Mr\\s\\w+\") # retruns the specified number of digits in a given pattern\n",
    "matches=pattern.finditer(my_string)\n",
    "for match in matches:\n",
    "    print(match)"
   ]
  },
  {
   "cell_type": "code",
   "execution_count": 37,
   "metadata": {},
   "outputs": [
    {
     "name": "stdout",
     "output_type": "stream",
     "text": [
      "<re.Match object; span=(54, 63), match='Mr. Brown'>\n",
      "<re.Match object; span=(85, 90), match='Mr. T'>\n"
     ]
    }
   ],
   "source": [
    "#Conditions\n",
    "my_string='''\n",
    "hello world\n",
    "124324\n",
    "2020-02-25\n",
    "Mr Simpson\n",
    "Mrs Simpson\n",
    "Mr. Brown\n",
    "Mrs. Brown\n",
    "Ms  Smith\n",
    "Mr. T\n",
    "'''\n",
    "pattern=re.compile(r\"Mr\\.\\s\\w+\") # retruns the specified number of digits in a given pattern\n",
    "matches=pattern.finditer(my_string)\n",
    "for match in matches:\n",
    "    print(match)"
   ]
  },
  {
   "cell_type": "code",
   "execution_count": 38,
   "metadata": {},
   "outputs": [
    {
     "name": "stdout",
     "output_type": "stream",
     "text": [
      "<re.Match object; span=(31, 41), match='Mr Simpson'>\n",
      "<re.Match object; span=(54, 63), match='Mr. Brown'>\n",
      "<re.Match object; span=(85, 90), match='Mr. T'>\n"
     ]
    }
   ],
   "source": [
    "#Conditions\n",
    "my_string='''\n",
    "hello world\n",
    "124324\n",
    "2020-02-25\n",
    "Mr Simpson\n",
    "Mrs Simpson\n",
    "Mr. Brown\n",
    "Mrs. Brown\n",
    "Ms  Smith\n",
    "Mr. T\n",
    "'''\n",
    "pattern=re.compile(r\"Mr\\.?\\s\\w+\") # retruns the specified number of digits in a given pattern\n",
    "matches=pattern.finditer(my_string)\n",
    "for match in matches:\n",
    "    print(match)"
   ]
  },
  {
   "cell_type": "code",
   "execution_count": 39,
   "metadata": {},
   "outputs": [
    {
     "name": "stdout",
     "output_type": "stream",
     "text": [
      "<re.Match object; span=(31, 41), match='Mr Simpson'>\n",
      "<re.Match object; span=(42, 53), match='Mrs Simpson'>\n",
      "<re.Match object; span=(54, 63), match='Mr. Brown'>\n",
      "<re.Match object; span=(64, 74), match='Mrs. Brown'>\n",
      "<re.Match object; span=(85, 90), match='Mr. T'>\n"
     ]
    }
   ],
   "source": [
    "#Conditions |\n",
    "my_string='''\n",
    "hello world\n",
    "124324\n",
    "2020-02-25\n",
    "Mr Simpson\n",
    "Mrs Simpson\n",
    "Mr. Brown\n",
    "Mrs. Brown\n",
    "Ms  Smith\n",
    "Mr. T\n",
    "'''\n",
    "pattern=re.compile(r\"(Mr|Ms|Mrs)\\.?\\s\\w+\") # retruns the specified number of digits in a given pattern\n",
    "matches=pattern.finditer(my_string)\n",
    "for match in matches:\n",
    "    print(match)"
   ]
  },
  {
   "cell_type": "code",
   "execution_count": 44,
   "metadata": {},
   "outputs": [
    {
     "name": "stdout",
     "output_type": "stream",
     "text": [
      "<re.Match object; span=(2, 12), match='01.04.2020'>\n",
      "<re.Match object; span=(13, 23), match='2020.04.01'>\n",
      "<re.Match object; span=(24, 34), match='2020-04-02'>\n",
      "<re.Match object; span=(35, 45), match='2020-05-23'>\n",
      "<re.Match object; span=(46, 56), match='2020-07-11'>\n",
      "<re.Match object; span=(57, 67), match='02.07.2021'>\n",
      "<re.Match object; span=(68, 78), match='2020.08.28'>\n",
      "<re.Match object; span=(79, 89), match='2020/04/02'>\n",
      "<re.Match object; span=(90, 100), match='2020_04_04'>\n",
      "<re.Match object; span=(101, 111), match='2020_02_08'>\n"
     ]
    }
   ],
   "source": [
    "dates=\"\"\" \n",
    "01.04.2020\n",
    "2020.04.01\n",
    "2020-04-02\n",
    "2020-05-23\n",
    "2020-07-11\n",
    "02.07.2021\n",
    "2020.08.28\n",
    "2020/04/02\n",
    "2020_04_04\n",
    "2020_02_08\n",
    "\"\"\"\n",
    "pattern=re.compile(r\"(\\d\\d\\d\\d|\\d\\d)[-_/\\.]\\d\\d[-_/\\.](\\d\\d\\d\\d|\\d\\d)\") # retruns the specified number of digits in a given pattern\n",
    "matches=pattern.finditer(dates)\n",
    "for match in matches:\n",
    "    print(match)"
   ]
  },
  {
   "cell_type": "code",
   "execution_count": 50,
   "metadata": {},
   "outputs": [
    {
     "name": "stdout",
     "output_type": "stream",
     "text": [
      "<re.Match object; span=(91, 115), match='pythonengineer@gmail.com'>\n",
      "<re.Match object; span=(116, 138), match='Python-engineer@gmx.de'>\n",
      "<re.Match object; span=(139, 171), match='python-engineer123@my-domain.org'>\n"
     ]
    }
   ],
   "source": [
    "#Conditions |\n",
    "my_string='''\n",
    "hello world\n",
    "124324\n",
    "2020-02-25\n",
    "Mr Simpson\n",
    "Mrs Simpson\n",
    "Mr. Brown\n",
    "Mrs. Brown\n",
    "Ms  Smith\n",
    "Mr. T\n",
    "pythonengineer@gmail.com\n",
    "Python-engineer@gmx.de\n",
    "python-engineer123@my-domain.org\n",
    "'''\n",
    "pattern=re.compile(r\"[a-zA-Z0-9-]+@[a-zA-Z-]+\\.(com|de|org)\") # retruns the specified number of digits in a given pattern\n",
    "matches=pattern.finditer(my_string)\n",
    "for match in matches:\n",
    "    print(match)"
   ]
  },
  {
   "cell_type": "code",
   "execution_count": 51,
   "metadata": {},
   "outputs": [
    {
     "name": "stdout",
     "output_type": "stream",
     "text": [
      "<re.Match object; span=(91, 115), match='pythonengineer@gmail.com'>\n",
      "<re.Match object; span=(116, 138), match='Python-engineer@gmx.de'>\n",
      "<re.Match object; span=(139, 171), match='python-engineer123@my-domain.org'>\n"
     ]
    }
   ],
   "source": [
    "#Conditions |\n",
    "my_string='''\n",
    "hello world\n",
    "124324\n",
    "2020-02-25\n",
    "Mr Simpson\n",
    "Mrs Simpson\n",
    "Mr. Brown\n",
    "Mrs. Brown\n",
    "Ms  Smith\n",
    "Mr. T\n",
    "pythonengineer@gmail.com\n",
    "Python-engineer@gmx.de\n",
    "python-engineer123@my-domain.org\n",
    "'''\n",
    "pattern=re.compile(r\"[a-zA-Z0-9-]+@[a-zA-Z-]+\\.[a-zA-Z]+\") # retruns the specified number of digits in a given pattern\n",
    "matches=pattern.finditer(my_string)\n",
    "for match in matches:\n",
    "    print(match)"
   ]
  },
  {
   "cell_type": "code",
   "execution_count": 56,
   "metadata": {},
   "outputs": [
    {
     "name": "stdout",
     "output_type": "stream",
     "text": [
      "<re.Match object; span=(91, 115), match='pythonengineer@gmail.com'>\n",
      "<re.Match object; span=(116, 138), match='Python-engineer@gmx.de'>\n",
      "<re.Match object; span=(139, 171), match='python-engineer123@my-domain.org'>\n"
     ]
    }
   ],
   "source": [
    "#Conditions |\n",
    "my_string='''\n",
    "hello world\n",
    "124324\n",
    "2020-02-25\n",
    "Mr Simpson\n",
    "Mrs Simpson\n",
    "Mr. Brown\n",
    "Mrs. Brown\n",
    "Ms  Smith\n",
    "Mr. T\n",
    "pythonengineer@gmail.com\n",
    "Python-engineer@gmx.de\n",
    "python-engineer123@my-domain.org\n",
    "'''\n",
    "pattern=re.compile(r\"[a-zA-Z0-9-]+@[a-zA-Z-]+\\.[a-zA-Z]+\") # retruns the specified number of digits in a given pattern\n",
    "matches=pattern.finditer(my_string) #+ indicates minimum 1 or more matching results\n",
    "for match in matches:\n",
    "    print(match)"
   ]
  },
  {
   "cell_type": "code",
   "execution_count": 57,
   "metadata": {},
   "outputs": [
    {
     "name": "stdout",
     "output_type": "stream",
     "text": [
      "<re.Match object; span=(91, 115), match='pythonengineer@gmail.com'>\n",
      "<re.Match object; span=(116, 138), match='Python-engineer@gmx.de'>\n",
      "<re.Match object; span=(139, 171), match='python-engineer123@my-domain.org'>\n"
     ]
    }
   ],
   "source": [
    "#Conditions |\n",
    "my_string='''\n",
    "hello world\n",
    "124324\n",
    "2020-02-25\n",
    "Mr Simpson\n",
    "Mrs Simpson\n",
    "Mr. Brown\n",
    "Mrs. Brown\n",
    "Ms  Smith\n",
    "Mr. T\n",
    "pythonengineer@gmail.com\n",
    "Python-engineer@gmx.de\n",
    "python-engineer123@my-domain.org\n",
    "'''\n",
    "pattern=re.compile(r\"([a-zA-Z0-9-]+)@([a-zA-Z-]+)\\.([a-zA-Z]+)\") # retruns the specified number of digits in a given pattern\n",
    "matches=pattern.finditer(my_string) #+ indicates minimum 1 or more matching results\n",
    "for match in matches:\n",
    "    print(match)"
   ]
  },
  {
   "cell_type": "code",
   "execution_count": 58,
   "metadata": {},
   "outputs": [
    {
     "name": "stdout",
     "output_type": "stream",
     "text": [
      "pythonengineer@gmail.com\n",
      "Python-engineer@gmx.de\n",
      "python-engineer123@my-domain.org\n"
     ]
    }
   ],
   "source": [
    "#Conditions | grouping\n",
    "my_string='''\n",
    "hello world\n",
    "124324\n",
    "2020-02-25\n",
    "Mr Simpson\n",
    "Mrs Simpson\n",
    "Mr. Brown\n",
    "Mrs. Brown\n",
    "Ms  Smith\n",
    "Mr. T\n",
    "pythonengineer@gmail.com\n",
    "Python-engineer@gmx.de\n",
    "python-engineer123@my-domain.org\n",
    "'''\n",
    "pattern=re.compile(r\"([a-zA-Z0-9-]+)@([a-zA-Z-]+)\\.([a-zA-Z]+)\") # retruns the specified number of digits in a given pattern\n",
    "matches=pattern.finditer(my_string) #+ indicates minimum 1 or more matching results\n",
    "for match in matches:\n",
    "    print(match.group())"
   ]
  },
  {
   "cell_type": "code",
   "execution_count": 60,
   "metadata": {},
   "outputs": [
    {
     "name": "stdout",
     "output_type": "stream",
     "text": [
      "pythonengineer@gmail.com\n",
      "pythonengineer\n",
      "gmail\n",
      "com\n",
      "Python-engineer@gmx.de\n",
      "Python-engineer\n",
      "gmx\n",
      "de\n",
      "python-engineer123@my-domain.org\n",
      "python-engineer123\n",
      "my-domain\n",
      "org\n"
     ]
    }
   ],
   "source": [
    "#Conditions | grouping\n",
    "my_string='''\n",
    "hello world\n",
    "124324\n",
    "2020-02-25\n",
    "Mr Simpson\n",
    "Mrs Simpson\n",
    "Mr. Brown\n",
    "Mrs. Brown\n",
    "Ms  Smith\n",
    "Mr. T\n",
    "pythonengineer@gmail.com\n",
    "Python-engineer@gmx.de\n",
    "python-engineer123@my-domain.org\n",
    "'''\n",
    "pattern=re.compile(r\"([a-zA-Z0-9-]+)@([a-zA-Z-]+)\\.([a-zA-Z]+)\") # retruns the specified number of digits in a given pattern\n",
    "matches=pattern.finditer(my_string) #+ indicates minimum 1 or more matching results\n",
    "for match in matches:\n",
    "    print(match.group(0))\n",
    "    print(match.group(1))\n",
    "    print(match.group(2))\n",
    "    print(match.group(3))"
   ]
  },
  {
   "cell_type": "code",
   "execution_count": 61,
   "metadata": {},
   "outputs": [
    {
     "name": "stdout",
     "output_type": "stream",
     "text": [
      "pythonengineer@gmail.com\n",
      "Python-engineer@gmx.de\n",
      "python-engineer123@my-domain.org\n"
     ]
    }
   ],
   "source": [
    "#Conditions | grouping\n",
    "my_string='''\n",
    "hello world\n",
    "124324\n",
    "2020-02-25\n",
    "Mr Simpson\n",
    "Mrs Simpson\n",
    "Mr. Brown\n",
    "Mrs. Brown\n",
    "Ms  Smith\n",
    "Mr. T\n",
    "pythonengineer@gmail.com\n",
    "Python-engineer@gmx.de\n",
    "python-engineer123@my-domain.org\n",
    "'''\n",
    "pattern=re.compile(r\"([a-zA-Z0-9-]+)@([a-zA-Z-]+)\\.([a-zA-Z]+)\") # retruns the specified number of digits in a given pattern\n",
    "matches=pattern.finditer(my_string) #+ indicates minimum 1 or more matching results\n",
    "for match in matches:\n",
    "    print(match.group(0))\n",
    "#    print(match.group(1))\n",
    "#     print(match.group(2))\n",
    "#     print(match.group(3))"
   ]
  },
  {
   "cell_type": "code",
   "execution_count": 62,
   "metadata": {},
   "outputs": [
    {
     "name": "stdout",
     "output_type": "stream",
     "text": [
      "pythonengineer\n",
      "Python-engineer\n",
      "python-engineer123\n"
     ]
    }
   ],
   "source": [
    "#Conditions | grouping\n",
    "my_string='''\n",
    "hello world\n",
    "124324\n",
    "2020-02-25\n",
    "Mr Simpson\n",
    "Mrs Simpson\n",
    "Mr. Brown\n",
    "Mrs. Brown\n",
    "Ms  Smith\n",
    "Mr. T\n",
    "pythonengineer@gmail.com\n",
    "Python-engineer@gmx.de\n",
    "python-engineer123@my-domain.org\n",
    "'''\n",
    "pattern=re.compile(r\"([a-zA-Z0-9-]+)@([a-zA-Z-]+)\\.([a-zA-Z]+)\") # retruns the specified number of digits in a given pattern\n",
    "matches=pattern.finditer(my_string) #+ indicates minimum 1 or more matching results\n",
    "for match in matches:\n",
    " #   print(match.group(0))\n",
    "   print(match.group(1))\n",
    " #   print(match.group(2))\n",
    " #   print(match.group(3))"
   ]
  },
  {
   "cell_type": "code",
   "execution_count": 63,
   "metadata": {},
   "outputs": [
    {
     "name": "stdout",
     "output_type": "stream",
     "text": [
      "gmail\n",
      "gmx\n",
      "my-domain\n"
     ]
    }
   ],
   "source": [
    "#Conditions | grouping\n",
    "my_string='''\n",
    "hello world\n",
    "124324\n",
    "2020-02-25\n",
    "Mr Simpson\n",
    "Mrs Simpson\n",
    "Mr. Brown\n",
    "Mrs. Brown\n",
    "Ms  Smith\n",
    "Mr. T\n",
    "pythonengineer@gmail.com\n",
    "Python-engineer@gmx.de\n",
    "python-engineer123@my-domain.org\n",
    "'''\n",
    "pattern=re.compile(r\"([a-zA-Z0-9-]+)@([a-zA-Z-]+)\\.([a-zA-Z]+)\") # retruns the specified number of digits in a given pattern\n",
    "matches=pattern.finditer(my_string) #+ indicates minimum 1 or more matching results\n",
    "for match in matches:\n",
    "#    print(match.group(0))\n",
    "#    print(match.group(1))\n",
    "    print(match.group(2))\n",
    "#    print(match.group(3))"
   ]
  },
  {
   "cell_type": "code",
   "execution_count": 64,
   "metadata": {},
   "outputs": [
    {
     "name": "stdout",
     "output_type": "stream",
     "text": [
      "com\n",
      "de\n",
      "org\n"
     ]
    }
   ],
   "source": [
    "#Conditions | grouping\n",
    "my_string='''\n",
    "hello world\n",
    "124324\n",
    "2020-02-25\n",
    "Mr Simpson\n",
    "Mrs Simpson\n",
    "Mr. Brown\n",
    "Mrs. Brown\n",
    "Ms  Smith\n",
    "Mr. T\n",
    "pythonengineer@gmail.com\n",
    "Python-engineer@gmx.de\n",
    "python-engineer123@my-domain.org\n",
    "'''\n",
    "pattern=re.compile(r\"([a-zA-Z0-9-]+)@([a-zA-Z-]+)\\.([a-zA-Z]+)\") # retruns the specified number of digits in a given pattern\n",
    "matches=pattern.finditer(my_string) #+ indicates minimum 1 or more matching results\n",
    "for match in matches:\n",
    "#    print(match.group(0))\n",
    "#    print(match.group(1))\n",
    "#    print(match.group(2))\n",
    "    print(match.group(3))"
   ]
  },
  {
   "cell_type": "code",
   "execution_count": 65,
   "metadata": {},
   "outputs": [
    {
     "name": "stdout",
     "output_type": "stream",
     "text": [
      "['\\nhello world\\n124324\\n2020-02-25\\nMr Simpson\\nMrs Simpson\\nMr. Brown\\nMrs. Brown\\nMs  Smith\\nMr. T\\npythonengineer@gmail.com\\nPython-engineer@gmx.de\\npython-engineer', '@my-domain.org\\n']\n"
     ]
    }
   ],
   "source": [
    "#modifications #split, sub\n",
    "#Conditions | grouping\n",
    "my_string='''\n",
    "hello world\n",
    "124324\n",
    "2020-02-25\n",
    "Mr Simpson\n",
    "Mrs Simpson\n",
    "Mr. Brown\n",
    "Mrs. Brown\n",
    "Ms  Smith\n",
    "Mr. T\n",
    "pythonengineer@gmail.com\n",
    "Python-engineer@gmx.de\n",
    "python-engineer123@my-domain.org\n",
    "'''\n",
    "pattern=re.compile(r\"123\")\n",
    "matches=pattern.split(my_string)\n",
    "print(matches)"
   ]
  },
  {
   "cell_type": "code",
   "execution_count": 66,
   "metadata": {},
   "outputs": [
    {
     "name": "stdout",
     "output_type": "stream",
     "text": [
      "['\\nhello world\\n', '24\\n2020-02-25\\nMr Simpson\\nMrs Simpson\\nMr. Brown\\nMrs. Brown\\nMs  Smith\\nMr. T\\npythonengineer@gmail.com\\nPython-engineer@gmx.de\\npython-engineer', '@my-domain.org\\n']\n"
     ]
    }
   ],
   "source": [
    "#modifications #split, sub\n",
    "#Conditions | grouping\n",
    "my_string='''\n",
    "hello world\n",
    "12324\n",
    "2020-02-25\n",
    "Mr Simpson\n",
    "Mrs Simpson\n",
    "Mr. Brown\n",
    "Mrs. Brown\n",
    "Ms  Smith\n",
    "Mr. T\n",
    "pythonengineer@gmail.com\n",
    "Python-engineer@gmx.de\n",
    "python-engineer123@my-domain.org\n",
    "'''\n",
    "pattern=re.compile(r\"123\")\n",
    "matches=pattern.split(my_string)\n",
    "print(matches)"
   ]
  },
  {
   "cell_type": "code",
   "execution_count": 69,
   "metadata": {},
   "outputs": [
    {
     "name": "stdout",
     "output_type": "stream",
     "text": [
      "['\\nhello world ', '24 2020-02-25 Mr Simpson \\n']\n"
     ]
    }
   ],
   "source": [
    "#modifications #split, sub\n",
    "#Conditions | grouping\n",
    "my_string='''\n",
    "hello world 12324 2020-02-25 Mr Simpson \n",
    "'''\n",
    "pattern=re.compile(r\"123\")\n",
    "matches=pattern.split(my_string)\n",
    "print(matches)"
   ]
  },
  {
   "cell_type": "code",
   "execution_count": 70,
   "metadata": {},
   "outputs": [
    {
     "name": "stdout",
     "output_type": "stream",
     "text": [
      "['\\nhello ', ' world ', '24 2020-02-25 ', ' Mr Simpson \\n']\n"
     ]
    }
   ],
   "source": [
    "#modifications #split, sub\n",
    "#Conditions | grouping\n",
    "my_string='''\n",
    "hello 123 world 12324 2020-02-25 123 Mr Simpson \n",
    "'''\n",
    "pattern=re.compile(r\"123\")\n",
    "matches=pattern.split(my_string)\n",
    "print(matches)"
   ]
  },
  {
   "cell_type": "code",
   "execution_count": 71,
   "metadata": {},
   "outputs": [
    {
     "name": "stdout",
     "output_type": "stream",
     "text": [
      "\n",
      "hello abc world abc24 2020-02-25 abc Mr Simpson \n",
      "\n"
     ]
    }
   ],
   "source": [
    "#modifications #split, sub\n",
    "#Conditions | grouping\n",
    "my_string='''\n",
    "hello 123 world 12324 2020-02-25 123 Mr Simpson \n",
    "'''\n",
    "pattern=re.compile(r\"123\")\n",
    "matches=pattern.sub('abc',my_string)\n",
    "print(matches)"
   ]
  },
  {
   "cell_type": "code",
   "execution_count": 78,
   "metadata": {},
   "outputs": [
    {
     "name": "stdout",
     "output_type": "stream",
     "text": [
      "<re.Match object; span=(24, 50), match='http://python-engineer.com'>\n",
      "<re.Match object; span=(51, 82), match='https://www.python-engineer.com'>\n",
      "<re.Match object; span=(83, 103), match='http://www.pyeng.net'>\n"
     ]
    }
   ],
   "source": [
    "urls='''\n",
    "hello world\n",
    "2020-12-29\n",
    "http://python-engineer.com\n",
    "https://www.python-engineer.com\n",
    "http://www.pyeng.net\n",
    "'''\n",
    "pattern=re.compile(r\"https?://(www\\.)?([a-zA-Z-]+)\\.[a-zA-Z]+\")\n",
    "#matches=pattern.sub(\"https\",urls)\n",
    "matches=pattern.finditer(urls)\n",
    "for match in matches:\n",
    "    print(match)"
   ]
  },
  {
   "cell_type": "code",
   "execution_count": 80,
   "metadata": {},
   "outputs": [
    {
     "name": "stdout",
     "output_type": "stream",
     "text": [
      "<re.Match object; span=(24, 50), match='http://python-engineer.com'>\n",
      "<re.Match object; span=(51, 82), match='https://www.python-engineer.com'>\n",
      "<re.Match object; span=(83, 103), match='http://www.pyeng.net'>\n",
      "\n",
      "hello world\n",
      "2020-12-29\n",
      "https\n",
      "https\n",
      "https\n",
      "\n"
     ]
    }
   ],
   "source": [
    "urls='''\n",
    "hello world\n",
    "2020-12-29\n",
    "http://python-engineer.com\n",
    "https://www.python-engineer.com\n",
    "http://www.pyeng.net\n",
    "'''\n",
    "pattern=re.compile(r\"https?://(www\\.)?([a-zA-Z-]+)\\.[a-zA-Z]+\")\n",
    "\n",
    "matches=pattern.finditer(urls)\n",
    "for match in matches:\n",
    "    print(match)\n",
    "matches=pattern.sub(\"https\",urls)\n",
    "print(matches)"
   ]
  },
  {
   "cell_type": "code",
   "execution_count": 84,
   "metadata": {},
   "outputs": [
    {
     "name": "stdout",
     "output_type": "stream",
     "text": [
      "<re.Match object; span=(1, 27), match='http://python-engineer.com'>\n",
      "<re.Match object; span=(28, 59), match='https://www.python-engineer.com'>\n",
      "<re.Match object; span=(60, 80), match='http://www.pyeng.net'>\n",
      "\n",
      "python-engineer.com\n",
      "python-engineer.com\n",
      "pyeng.net\n",
      "\n"
     ]
    }
   ],
   "source": [
    "urls='''\n",
    "http://python-engineer.com\n",
    "https://www.python-engineer.com\n",
    "http://www.pyeng.net\n",
    "'''\n",
    "pattern=re.compile(r\"https?://(www\\.)?([a-zA-Z-]+)(\\.[a-zA-Z]+)\")\n",
    "\n",
    "matches=pattern.finditer(urls)\n",
    "for match in matches:\n",
    "    print(match)\n",
    "matches=pattern.sub(r\"\\2\\3\",urls) #\\2 \\3 refers to the group numbers\n",
    "print(matches)"
   ]
  },
  {
   "cell_type": "code",
   "execution_count": 86,
   "metadata": {},
   "outputs": [
    {
     "name": "stdout",
     "output_type": "stream",
     "text": [
      "http://python-engineer.com\n",
      "None\n",
      "python-engineer\n",
      ".com\n",
      "https://www.python-engineer.com\n",
      "www.\n",
      "python-engineer\n",
      ".com\n",
      "http://www.pyeng.net\n",
      "www.\n",
      "pyeng\n",
      ".net\n",
      "\n",
      "python-engineer.com\n",
      "python-engineer.com\n",
      "pyeng.net\n",
      "\n"
     ]
    }
   ],
   "source": [
    "urls='''\n",
    "http://python-engineer.com\n",
    "https://www.python-engineer.com\n",
    "http://www.pyeng.net\n",
    "'''\n",
    "pattern=re.compile(r\"https?://(www\\.)?([a-zA-Z-]+)(\\.[a-zA-Z]+)\")\n",
    "\n",
    "matches=pattern.finditer(urls)\n",
    "for match in matches:\n",
    "    print(match.group(0))\n",
    "    print(match.group(1))\n",
    "    print(match.group(2))\n",
    "    print(match.group(3))\n",
    "matches=pattern.sub(r\"\\2\\3\",urls) #\\2 \\3 refers to the group numbers\n",
    "print(matches)"
   ]
  },
  {
   "cell_type": "code",
   "execution_count": null,
   "metadata": {},
   "outputs": [],
   "source": [
    "urls='''\n",
    "http://python-engineer.com\n",
    "https://www.python-engineer.com\n",
    "http://www.pyeng.net\n",
    "'''\n",
    "pattern=re.compile(r\"https?://(www\\.)?([a-zA-Z-]+)(\\.[a-zA-Z]+)\")\n",
    "\n",
    "matches=pattern.finditer(urls)\n",
    "for match in matches:\n",
    "    print(match.group(0))\n",
    "    print(match.group(1))\n",
    "    print(match.group(2))\n",
    "    print(match.group(3))\n",
    "matches=pattern.sub(r\"Hello\\2,urls) #\\2 \\3 refers to the group numbers\n",
    "print(matches)"
   ]
  },
  {
   "cell_type": "code",
   "execution_count": null,
   "metadata": {},
   "outputs": [],
   "source": [
    "#compilation flags: or bit wise operator\n",
    "ASCII A: Makes several escapes like \\w,\\b,\\s and \\d match only on ASCII chracters with the respective \n",
    "DOTALL, S : Make . match any character, including newlines.\n",
    "IGNORECASE, I: Do case-insensitive matches.\n",
    "LOCALE, L : Do a locale-aware match. (locale - from babel import locale it allow us to treat the word expansions based on its location and language. Ex In English US can be called as United sates, Some oter region USA )\n",
    "MULTILINE,M: Multi-line matching, affecting ^ and $.\n",
    "VERBOSE, X(for \"extended\"): Enable verbose REs, which can be organized more cleanly and understandably"
   ]
  },
  {
   "cell_type": "code",
   "execution_count": 88,
   "metadata": {},
   "outputs": [],
   "source": [
    "my_string=\"Hello World\"\n",
    "pattern=re.compile(r\"world\")\n",
    "matches=pattern.finditer(my_string)\n",
    "for match in matches:\n",
    "    print(match)"
   ]
  },
  {
   "cell_type": "code",
   "execution_count": 91,
   "metadata": {},
   "outputs": [
    {
     "name": "stdout",
     "output_type": "stream",
     "text": [
      "<re.Match object; span=(6, 11), match='World'>\n"
     ]
    }
   ],
   "source": [
    "my_string=\"Hello World\"\n",
    "pattern=re.compile(r\"World\")\n",
    "matches=pattern.finditer(my_string)\n",
    "for match in matches:\n",
    "    print(match)"
   ]
  },
  {
   "cell_type": "code",
   "execution_count": 93,
   "metadata": {},
   "outputs": [
    {
     "name": "stdout",
     "output_type": "stream",
     "text": [
      "<re.Match object; span=(6, 11), match='World'>\n"
     ]
    }
   ],
   "source": [
    "my_string=\"Hello World\"\n",
    "pattern=re.compile(r\"world\", re.IGNORECASE)\n",
    "matches=pattern.finditer(my_string)\n",
    "for match in matches:\n",
    "    print(match)"
   ]
  },
  {
   "cell_type": "code",
   "execution_count": 94,
   "metadata": {},
   "outputs": [
    {
     "name": "stdout",
     "output_type": "stream",
     "text": [
      "<re.Match object; span=(6, 11), match='World'>\n"
     ]
    }
   ],
   "source": [
    "my_string=\"Hello World\"\n",
    "pattern=re.compile(r\"world\", re.I) #re.I for ignore case\n",
    "matches=pattern.finditer(my_string)\n",
    "for match in matches:\n",
    "    print(match)"
   ]
  },
  {
   "cell_type": "code",
   "execution_count": 101,
   "metadata": {},
   "outputs": [
    {
     "name": "stdout",
     "output_type": "stream",
     "text": [
      "<re.Match object; span=(0, 1), match='H'>\n",
      "<re.Match object; span=(1, 2), match='e'>\n",
      "<re.Match object; span=(2, 3), match='l'>\n",
      "<re.Match object; span=(3, 4), match='l'>\n",
      "<re.Match object; span=(4, 5), match='o'>\n",
      "<re.Match object; span=(5, 6), match=' '>\n",
      "<re.Match object; span=(6, 7), match='W'>\n",
      "<re.Match object; span=(7, 8), match='o'>\n",
      "<re.Match object; span=(8, 9), match='r'>\n",
      "<re.Match object; span=(9, 10), match='l'>\n",
      "<re.Match object; span=(10, 11), match='d'>\n",
      "<re.Match object; span=(11, 12), match=' '>\n",
      "<re.Match object; span=(12, 13), match='\\n'>\n",
      "<re.Match object; span=(13, 14), match=' '>\n",
      "<re.Match object; span=(14, 15), match='\\t'>\n"
     ]
    }
   ],
   "source": [
    "my_string=\"Hello World \\n \\t\"\n",
    "pattern=re.compile(r\".\", re.S) #re.S Dotall any character including \\n for ignore case\n",
    "matches=pattern.finditer(my_string)\n",
    "for match in matches:\n",
    "    print(match)"
   ]
  },
  {
   "cell_type": "code",
   "execution_count": null,
   "metadata": {},
   "outputs": [],
   "source": [
    "#VERBOSE X regex- it allows to write the regular expressions in multi line and also allow us to\n",
    "#add commments. This type writing regex will help in code readability and understandability.\n",
    "#It does not make any changes in the end result it is just differently way of coding the\n",
    "#regex."
   ]
  },
  {
   "cell_type": "code",
   "execution_count": 115,
   "metadata": {},
   "outputs": [
    {
     "name": "stdout",
     "output_type": "stream",
     "text": [
      "<re.Match object; span=(2, 12), match='01.04.2020'>\n",
      "<re.Match object; span=(13, 23), match='2020.04.01'>\n",
      "<re.Match object; span=(24, 34), match='2020-04-02'>\n",
      "<re.Match object; span=(35, 45), match='2020-05-23'>\n",
      "<re.Match object; span=(46, 56), match='2020-07-11'>\n",
      "<re.Match object; span=(57, 67), match='02.07.2021'>\n",
      "<re.Match object; span=(68, 78), match='2020.08.28'>\n",
      "<re.Match object; span=(79, 89), match='2020/04/02'>\n",
      "<re.Match object; span=(90, 100), match='2020_04_04'>\n",
      "<re.Match object; span=(101, 111), match='2020_02_08'>\n"
     ]
    }
   ],
   "source": [
    "dates=\"\"\" \n",
    "01.04.2020\n",
    "2020.04.01\n",
    "2020-04-02\n",
    "2020-05-23\n",
    "2020-07-11\n",
    "02.07.2021\n",
    "2020.08.28\n",
    "2020/04/02\n",
    "2020_04_04\n",
    "2020_02_08\n",
    "\"\"\"\n",
    "pattern=re.compile(r\"(\\d\\d\\d\\d|\\d\\d)[-_/\\.]\\d\\d[-_/\\.](\\d\\d\\d\\d|\\d\\d)\") # retruns the specified number of digits in a given pattern\n",
    "matches=pattern.finditer(dates)\n",
    "for match in matches:\n",
    "    print(match)"
   ]
  },
  {
   "cell_type": "code",
   "execution_count": 116,
   "metadata": {},
   "outputs": [
    {
     "name": "stdout",
     "output_type": "stream",
     "text": [
      "<re.Match object; span=(2, 12), match='01.04.2020'>\n",
      "<re.Match object; span=(13, 23), match='2020.04.01'>\n",
      "<re.Match object; span=(24, 34), match='2020-04-02'>\n",
      "<re.Match object; span=(35, 45), match='2020-05-23'>\n",
      "<re.Match object; span=(46, 56), match='2020-07-11'>\n",
      "<re.Match object; span=(57, 67), match='02.07.2021'>\n",
      "<re.Match object; span=(68, 78), match='2020.08.28'>\n",
      "<re.Match object; span=(79, 89), match='2020/04/02'>\n",
      "<re.Match object; span=(90, 100), match='2020_04_04'>\n",
      "<re.Match object; span=(101, 111), match='2020_02_08'>\n"
     ]
    }
   ],
   "source": [
    "dates=\"\"\" \n",
    "01.04.2020\n",
    "2020.04.01\n",
    "2020-04-02\n",
    "2020-05-23\n",
    "2020-07-11\n",
    "02.07.2021\n",
    "2020.08.28\n",
    "2020/04/02\n",
    "2020_04_04\n",
    "2020_02_08\n",
    "\"\"\"\n",
    "pattern=re.compile(r'''(\\d\\d\\d\\d|\\d\\d)\n",
    "                   [-_/\\.]\\d\\d[-_/\\.]\n",
    "                   (\\d\\d\\d\\d|\\d\\d)''',re.VERBOSE) # retruns the specified number of digits in a given pattern\n",
    "matches=pattern.finditer(dates)\n",
    "for match in matches:\n",
    "    print(match)"
   ]
  },
  {
   "cell_type": "code",
   "execution_count": 119,
   "metadata": {},
   "outputs": [
    {
     "name": "stdout",
     "output_type": "stream",
     "text": [
      "<re.Match object; span=(2, 12), match='01.04.2020'>\n",
      "<re.Match object; span=(13, 23), match='2020.04.01'>\n",
      "<re.Match object; span=(24, 34), match='2020-04-02'>\n",
      "<re.Match object; span=(35, 45), match='2020-05-23'>\n",
      "<re.Match object; span=(46, 56), match='2020-07-11'>\n",
      "<re.Match object; span=(57, 67), match='02.07.2021'>\n",
      "<re.Match object; span=(68, 78), match='2020.08.28'>\n",
      "<re.Match object; span=(79, 89), match='2020/04/02'>\n",
      "<re.Match object; span=(90, 100), match='2020_04_04'>\n",
      "<re.Match object; span=(101, 111), match='2020_02_08'>\n"
     ]
    }
   ],
   "source": [
    "dates=\"\"\" \n",
    "01.04.2020\n",
    "2020.04.01\n",
    "2020-04-02\n",
    "2020-05-23\n",
    "2020-07-11\n",
    "02.07.2021\n",
    "2020.08.28\n",
    "2020/04/02\n",
    "2020_04_04\n",
    "2020_02_08\n",
    "\"\"\"\n",
    "pattern=re.compile(r'''\n",
    "(\\d\\d\\d\\d                    #comment date in YYYY \n",
    "                   |         #or \n",
    "                   \\d\\d)    # DD\n",
    "                   [-_/\\.]\n",
    "                   \\d\\d     # MM\n",
    "                   [-_/\\.]\n",
    "                   (\\d\\d\\d\\d  #date in YYYY\n",
    "                   |          # or \n",
    "                   \\d\\d)      # in DD\n",
    "                   ''',re.VERBOSE) # retruns the specified number of digits in a given pattern\n",
    "matches=pattern.finditer(dates)\n",
    "for match in matches:\n",
    "    print(match)"
   ]
  },
  {
   "cell_type": "code",
   "execution_count": 121,
   "metadata": {},
   "outputs": [
    {
     "name": "stdout",
     "output_type": "stream",
     "text": [
      "<re.Match object; span=(6, 13), match='World \\n'>\n"
     ]
    }
   ],
   "source": [
    "#you can use more than one compilation flag operators by using or | operation in between them\n",
    "my_string=\"Hello World \\n \\t\"\n",
    "pattern=re.compile(r\"world \\n\", re.IGNORECASE | re.DOTALL)\n",
    "matches=pattern.finditer(my_string)\n",
    "for match in matches:\n",
    "    print(match)"
   ]
  },
  {
   "cell_type": "code",
   "execution_count": 123,
   "metadata": {},
   "outputs": [
    {
     "name": "stdout",
     "output_type": "stream",
     "text": [
      "<re.Match object; span=(6, 13), match='World \\n'>\n"
     ]
    }
   ],
   "source": [
    "my_string=\"Hello World \\n \\t\"\n",
    "pattern=re.compile(r\"World \\n\")\n",
    "matches=pattern.finditer(my_string)\n",
    "for match in matches:\n",
    "    print(match)"
   ]
  },
  {
   "cell_type": "code",
   "execution_count": null,
   "metadata": {},
   "outputs": [],
   "source": []
  }
 ],
 "metadata": {
  "kernelspec": {
   "display_name": "Python 3",
   "language": "python",
   "name": "python3"
  },
  "language_info": {
   "codemirror_mode": {
    "name": "ipython",
    "version": 3
   },
   "file_extension": ".py",
   "mimetype": "text/x-python",
   "name": "python",
   "nbconvert_exporter": "python",
   "pygments_lexer": "ipython3",
   "version": "3.7.6"
  }
 },
 "nbformat": 4,
 "nbformat_minor": 4
}
